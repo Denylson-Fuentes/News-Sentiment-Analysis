{
 "cells": [
  {
   "cell_type": "code",
   "execution_count": 24,
   "id": "rolled-fifteen",
   "metadata": {},
   "outputs": [],
   "source": [
    "import pandas as pd\n",
    "import numpy as np\n",
    "\n",
    "import tensorflow as tf\n",
    "from tensorflow.keras.preprocessing.text import Tokenizer\n",
    "from tensorflow.keras.preprocessing.sequence import pad_sequences\n",
    "\n",
    "from tensorflow.keras.models import Sequential\n",
    "from tensorflow.keras.layers import Embedding, LSTM, Bidirectional, Dense, Conv1D, Flatten\n",
    "from tensorflow.keras.layers import AveragePooling1D, MaxPooling1D, GlobalMaxPool1D, GlobalAvgPool1D\n",
    "\n",
    "import matplotlib.pyplot as plt"
   ]
  },
  {
   "cell_type": "code",
   "execution_count": 16,
   "id": "worldwide-stewart",
   "metadata": {},
   "outputs": [
    {
     "data": {
      "text/plain": [
       "15562"
      ]
     },
     "execution_count": 16,
     "metadata": {},
     "output_type": "execute_result"
    }
   ],
   "source": [
    "\n",
    "news1 = pd.read_csv('./djia_news/djia_news copy.csv')\n",
    "news2 = pd.read_csv('./nasdaq/nasdaq.csv')\n",
    "\n",
    "combined_news = news1.append(news2)\n",
    "combined_news = combined_news[['Label', 'Headline']]\n",
    "original_news = combined_news\n",
    "len(original_news)"
   ]
  },
  {
   "cell_type": "code",
   "execution_count": 17,
   "id": "intellectual-ministry",
   "metadata": {},
   "outputs": [],
   "source": [
    "version_1 = original_news\n",
    "version_2 = original_news\n",
    "version_3 = original_news\n",
    "\n",
    "version_1 = version_1.replace([0,1,2], [1,0,0])\n",
    "version_2  = version_2.replace([0,1,2], [0,1,0])\n",
    "version_3  = version_3.replace([0,1,2], [0,0,1])"
   ]
  },
  {
   "cell_type": "code",
   "execution_count": 18,
   "id": "earned-highway",
   "metadata": {},
   "outputs": [],
   "source": [
    "train_limit = round(len(version_1) * 0.75)\n",
    "\n",
    "train_data = version_1[0:train_limit]\n",
    "test_data = version_1[train_limit:]"
   ]
  },
  {
   "cell_type": "code",
   "execution_count": 19,
   "id": "sound-criterion",
   "metadata": {},
   "outputs": [],
   "source": [
    "train_headlines = train_data['Headline']\n",
    "train_labels = train_data[\"Label\"]\n",
    "\n",
    "test_headlines = test_data['Headline']\n",
    "test_labels = test_data['Label']\n"
   ]
  },
  {
   "cell_type": "code",
   "execution_count": 20,
   "id": "desperate-colors",
   "metadata": {},
   "outputs": [],
   "source": [
    "vocab_size = 10000\n",
    "emb_size = 50\n",
    "max_length = 20000\n",
    "trunc_type = 'post'\n",
    "padding_type = 'post'\n",
    "oov_tok = '<oov>'"
   ]
  },
  {
   "cell_type": "code",
   "execution_count": 21,
   "id": "burning-ceremony",
   "metadata": {},
   "outputs": [],
   "source": [
    "tokenizer = Tokenizer(num_words = vocab_size)\n",
    "tokenizer.fit_on_texts(train_headlines)\n",
    "word_index = tokenizer.word_index\n",
    "\n",
    "train_sequences = tokenizer.texts_to_sequences(train_headlines)\n",
    "train_padded = pad_sequences(train_sequences, maxlen = max_length, padding = padding_type, truncating = trunc_type)\n",
    "\n",
    "test_sequences = tokenizer.texts_to_sequences(test_headlines)\n",
    "test_padded = pad_sequences(test_sequences, maxlen = max_length, padding = padding_type, truncating = trunc_type)"
   ]
  },
  {
   "cell_type": "code",
   "execution_count": 25,
   "id": "systematic-consideration",
   "metadata": {},
   "outputs": [],
   "source": [
    "model_1 = Sequential()\n",
    "model_1.add(Embedding(vocab_size, emb_size, input_length = max_length))\n",
    "model_1.add(LSTM(16, return_sequences = True))\n",
    "model_1.add(Conv1D(32, 5))\n",
    "model_1.add(Conv1D(64, 7))\n",
    "model_1.add(AveragePooling1D(7))\n",
    "model_1.add(Bidirectional(LSTM(32)))\n",
    "model_1.add(Flatten())\n",
    "model_1.add(Dense(64, activation = 'relu'))\n",
    "model_1.add(Dense(32))\n",
    "model_1.add(Dense(16))\n",
    "model_1.add(Dense(1, activation = 'sigmoid'))\n",
    "\n",
    "model_1.compile(loss = 'binary_crossentropy', optimizer = 'adam', metrics = ['accuracy'])\n",
    "# model_1.summary()"
   ]
  },
  {
   "cell_type": "code",
   "execution_count": 26,
   "id": "based-mining",
   "metadata": {
    "scrolled": true
   },
   "outputs": [
    {
     "name": "stdout",
     "output_type": "stream",
     "text": [
      "Train on 11672 samples, validate on 3890 samples\n",
      "Epoch 1/20\n",
      "11672/11672 [==============================] - 284s 24ms/sample - loss: 0.6395 - accuracy: 0.6355 - val_loss: 0.6414 - val_accuracy: 0.6704\n",
      "Epoch 2/20\n",
      "11672/11672 [==============================] - 281s 24ms/sample - loss: 0.4879 - accuracy: 0.7618 - val_loss: 0.7488 - val_accuracy: 0.6373\n",
      "Epoch 3/20\n",
      "11672/11672 [==============================] - 281s 24ms/sample - loss: 0.3614 - accuracy: 0.8388 - val_loss: 0.8482 - val_accuracy: 0.6067\n",
      "Epoch 4/20\n",
      "11672/11672 [==============================] - 280s 24ms/sample - loss: 0.2522 - accuracy: 0.8915 - val_loss: 1.3077 - val_accuracy: 0.5612\n",
      "Epoch 5/20\n",
      "11672/11672 [==============================] - 281s 24ms/sample - loss: 0.1650 - accuracy: 0.9216 - val_loss: 1.5104 - val_accuracy: 0.5548\n",
      "Epoch 6/20\n",
      "11672/11672 [==============================] - 281s 24ms/sample - loss: 0.1268 - accuracy: 0.9334 - val_loss: 2.1533 - val_accuracy: 0.5763\n",
      "Epoch 7/20\n",
      "11672/11672 [==============================] - 281s 24ms/sample - loss: 0.1033 - accuracy: 0.9424 - val_loss: 2.4204 - val_accuracy: 0.5668\n",
      "Epoch 8/20\n",
      "11672/11672 [==============================] - 281s 24ms/sample - loss: 0.0879 - accuracy: 0.9477 - val_loss: 2.5557 - val_accuracy: 0.6021\n",
      "Epoch 9/20\n",
      "11672/11672 [==============================] - 281s 24ms/sample - loss: 0.0884 - accuracy: 0.9498 - val_loss: 2.6940 - val_accuracy: 0.5846\n",
      "Epoch 10/20\n",
      "11672/11672 [==============================] - 281s 24ms/sample - loss: 0.0791 - accuracy: 0.9539 - val_loss: 2.4839 - val_accuracy: 0.5702\n",
      "Epoch 11/20\n",
      "11672/11672 [==============================] - 281s 24ms/sample - loss: 0.0728 - accuracy: 0.9549 - val_loss: 2.7761 - val_accuracy: 0.5946\n",
      "Epoch 12/20\n",
      "11672/11672 [==============================] - 281s 24ms/sample - loss: 0.0703 - accuracy: 0.9562 - val_loss: 3.4885 - val_accuracy: 0.5882\n",
      "Epoch 13/20\n",
      "11672/11672 [==============================] - 281s 24ms/sample - loss: 0.0672 - accuracy: 0.9587 - val_loss: 3.2588 - val_accuracy: 0.5807\n",
      "Epoch 14/20\n",
      "11672/11672 [==============================] - 281s 24ms/sample - loss: 0.0663 - accuracy: 0.9600 - val_loss: 3.3710 - val_accuracy: 0.5902\n",
      "Epoch 15/20\n",
      "11672/11672 [==============================] - 281s 24ms/sample - loss: 0.0677 - accuracy: 0.9590 - val_loss: 2.6216 - val_accuracy: 0.5853\n",
      "Epoch 16/20\n",
      "11672/11672 [==============================] - 281s 24ms/sample - loss: 0.0672 - accuracy: 0.9584 - val_loss: 3.1670 - val_accuracy: 0.5650\n",
      "Epoch 17/20\n",
      "11672/11672 [==============================] - 281s 24ms/sample - loss: 0.0609 - accuracy: 0.9614 - val_loss: 3.7378 - val_accuracy: 0.5848\n",
      "Epoch 18/20\n",
      "11672/11672 [==============================] - 281s 24ms/sample - loss: 0.0633 - accuracy: 0.9605 - val_loss: 2.6361 - val_accuracy: 0.5956\n",
      "Epoch 19/20\n",
      "11672/11672 [==============================] - 281s 24ms/sample - loss: 0.0634 - accuracy: 0.9618 - val_loss: 3.0690 - val_accuracy: 0.5722\n",
      "Epoch 20/20\n",
      "11672/11672 [==============================] - 281s 24ms/sample - loss: 0.0624 - accuracy: 0.9615 - val_loss: 3.1974 - val_accuracy: 0.5925\n"
     ]
    }
   ],
   "source": [
    "\n",
    "with tf.device('/device:GPU:0'):\n",
    "    num_epochs = 20\n",
    "    history_1 = model_1.fit(\n",
    "        train_padded,\n",
    "        train_labels,\n",
    "        epochs = num_epochs,\n",
    "        validation_data = (test_padded, test_labels),\n",
    "    )"
   ]
  },
  {
   "cell_type": "code",
   "execution_count": 27,
   "id": "fallen-undergraduate",
   "metadata": {},
   "outputs": [
    {
     "data": {
      "image/png": "[encoded data removed]",
      "text/plain": [
       "<Figure size 432x288 with 1 Axes>"
      ]
     },
     "metadata": {
      "needs_background": "light"
     },
     "output_type": "display_data"
    },
    {
     "data": {
      "image/png": "[encoded data removed]",
      "text/plain": [
       "<Figure size 432x288 with 1 Axes>"
      ]
     },
     "metadata": {
      "needs_background": "light"
     },
     "output_type": "display_data"
    }
   ],
   "source": [
    "def plot_metrics(history, metric):\n",
    "    plt.plot(history.history[metric])\n",
    "    plt.plot(history.history['val_' + metric])\n",
    "    plt.xlabel(\"Epochs\")\n",
    "    plt.ylabel(metric)\n",
    "    plt.legend([metric, 'val_' + metric])\n",
    "    plt.show()\n",
    "plot_metrics(history_1, 'accuracy')\n",
    "plot_metrics(history_1, 'loss')"
   ]
  },
  {
   "cell_type": "code",
   "execution_count": null,
   "id": "moving-ethics",
   "metadata": {},
   "outputs": [],
   "source": [
    "train_limit = round(len(version_2) * 0.75)\n",
    "\n",
    "train_data = version_2[0:train_limit]\n",
    "test_data = version_2[train_limit:]"
   ]
  },
  {
   "cell_type": "code",
   "execution_count": null,
   "id": "informational-formation",
   "metadata": {},
   "outputs": [],
   "source": [
    "train_headlines = train_data['Headline']\n",
    "train_labels = train_data[\"Label\"]\n",
    "\n",
    "test_headlines = test_data['Headline']\n",
    "test_labels = test_data['Label']"
   ]
  },
  {
   "cell_type": "code",
   "execution_count": null,
   "id": "russian-compiler",
   "metadata": {},
   "outputs": [],
   "source": [
    "tokenizer = Tokenizer(num_words = vocab_size)\n",
    "tokenizer.fit_on_texts(train_headlines)\n",
    "word_index = tokenizer.word_index\n",
    "\n",
    "train_sequences = tokenizer.texts_to_sequences(train_headlines)\n",
    "train_padded = pad_sequences(train_sequences, maxlen = max_length, padding = padding_type, truncating = trunc_type)\n",
    "\n",
    "test_sequences = tokenizer.texts_to_sequences(test_headlines)\n",
    "test_padded = pad_sequences(test_sequences, maxlen = max_length, padding = padding_type, truncating = trunc_type)"
   ]
  },
  {
   "cell_type": "code",
   "execution_count": null,
   "id": "portuguese-involvement",
   "metadata": {},
   "outputs": [],
   "source": [
    "model_2 = Sequential()\n",
    "model_2.add(Embedding(vocab_size, emb_size, input_length = max_length))\n",
    "model_2.add(Bidirectional(LSTM(32)))\n",
    "model_2.add(Dense(32, activation = 'relu'))\n",
    "model_2.add(Dense(1, activation = 'sigmoid'))\n",
    "\n",
    "model_2.compile(loss = 'binary_crossentropy', optimizer = 'adam', metrics = ['accuracy'])\n",
    "# model_1.summary()"
   ]
  },
  {
   "cell_type": "code",
   "execution_count": null,
   "id": "designing-window",
   "metadata": {},
   "outputs": [],
   "source": [
    "num_epochs = 5\n",
    "history_2 = model_2.fit(\n",
    "    train_padded,\n",
    "    train_labels,\n",
    "    epochs = num_epochs,\n",
    "    validation_data = (test_padded, test_labels),\n",
    ")"
   ]
  },
  {
   "cell_type": "code",
   "execution_count": null,
   "id": "incredible-bradford",
   "metadata": {},
   "outputs": [],
   "source": [
    "plot_metrics(history_2, 'accuracy')\n",
    "plot_metrics(history_2, 'loss')"
   ]
  },
  {
   "cell_type": "code",
   "execution_count": null,
   "id": "accessory-visiting",
   "metadata": {},
   "outputs": [],
   "source": [
    "train_limit = round(len(version_3) * 0.75)\n",
    "\n",
    "train_data = version_3[0:train_limit]\n",
    "test_data = version_3[train_limit:]"
   ]
  },
  {
   "cell_type": "code",
   "execution_count": null,
   "id": "built-purpose",
   "metadata": {},
   "outputs": [],
   "source": [
    "train_headlines = train_data['Headline']\n",
    "train_labels = train_data[\"Label\"]\n",
    "\n",
    "test_headlines = test_data['Headline']\n",
    "test_labels = test_data['Label']"
   ]
  },
  {
   "cell_type": "code",
   "execution_count": null,
   "id": "quiet-patrick",
   "metadata": {},
   "outputs": [],
   "source": [
    "tokenizer = Tokenizer(num_words = vocab_size)\n",
    "tokenizer.fit_on_texts(train_headlines)\n",
    "word_index = tokenizer.word_index\n",
    "\n",
    "train_sequences = tokenizer.texts_to_sequences(train_headlines)\n",
    "train_padded = pad_sequences(train_sequences, maxlen = max_length, padding = padding_type, truncating = trunc_type)\n",
    "\n",
    "test_sequences = tokenizer.texts_to_sequences(test_headlines)\n",
    "test_padded = pad_sequences(test_sequences, maxlen = max_length, padding = padding_type, truncating = trunc_type)"
   ]
  },
  {
   "cell_type": "code",
   "execution_count": null,
   "id": "copyrighted-deposit",
   "metadata": {},
   "outputs": [],
   "source": [
    "model_3 = Sequential()\n",
    "model_3.add(Embedding(vocab_size, emb_size, input_length = max_length))\n",
    "model_3.add(Bidirectional(LSTM(32))\n",
    "model_3.add(Dense(32, activation = 'relu'))\n",
    "model_3.add(Dense(1, activation = 'sigmoid'))\n",
    "\n",
    "model_3.compile(loss = 'binary_crossentropy', optimizer = 'adam', metrics = ['accuracy'])\n",
    "# model_1.summary()"
   ]
  },
  {
   "cell_type": "code",
   "execution_count": null,
   "id": "promising-basic",
   "metadata": {},
   "outputs": [],
   "source": [
    "num_epochs = 5\n",
    "history_3 = model_2.fit(\n",
    "    train_padded,\n",
    "    train_labels,\n",
    "    epochs = num_epochs,\n",
    "    validation_data = (test_padded, test_labels),\n",
    "    verbose = 1\n",
    ")"
   ]
  },
  {
   "cell_type": "code",
   "execution_count": null,
   "id": "eleven-pitch",
   "metadata": {},
   "outputs": [],
   "source": [
    "plot_metrics(history_3, 'accuracy')\n",
    "plot_metrics(history_3, 'loss')"
   ]
  },
  {
   "cell_type": "code",
   "execution_count": null,
   "id": "hairy-trustee",
   "metadata": {},
   "outputs": [],
   "source": [
    "import pickle\n",
    "from keras_pickle_wrapper import KerasPickleWrapper\n",
    "\n",
    "pickled_wrapped = KerasPickleWrapper(model_1)\n",
    "filename = './model_1_weight.pkl'\n",
    "pickle.dump(pickled_wrapped, open(filename, 'wb'))"
   ]
  },
  {
   "cell_type": "code",
   "execution_count": null,
   "id": "significant-cuisine",
   "metadata": {},
   "outputs": [],
   "source": []
  }
 ],
 "metadata": {
  "kernelspec": {
   "display_name": "Python 3",
   "language": "python",
   "name": "python3"
  },
  "language_info": {
   "codemirror_mode": {
    "name": "ipython",
    "version": 3
   },
   "file_extension": ".py",
   "mimetype": "text/x-python",
   "name": "python",
   "nbconvert_exporter": "python",
   "pygments_lexer": "ipython3",
   "version": "3.6.13"
  }
 },
 "nbformat": 4,
 "nbformat_minor": 5
}
