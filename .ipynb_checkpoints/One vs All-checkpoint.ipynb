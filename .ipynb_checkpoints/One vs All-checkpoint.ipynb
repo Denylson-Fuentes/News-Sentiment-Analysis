{
 "cells": [
  {
   "cell_type": "code",
   "execution_count": 4,
   "id": "covered-brick",
   "metadata": {},
   "outputs": [],
   "source": [
    "import pandas as pd\n",
    "import numpy as np\n",
    "\n",
    "import tensorflow as tf\n",
    "from tensorflow.keras.preprocessing.text import Tokenizer\n",
    "from tensorflow.keras.preprocessing.sequence import pad_sequences\n",
    "\n",
    "from tensorflow.keras.models import Sequential\n",
    "from tensorflow.keras.layers import Embedding, LSTM, Bidirectional, Dense"
   ]
  },
  {
   "cell_type": "code",
   "execution_count": 16,
   "id": "incorporated-magazine",
   "metadata": {},
   "outputs": [
    {
     "data": {
      "text/html": [
       "<div>\n",
       "<style scoped>\n",
       "    .dataframe tbody tr th:only-of-type {\n",
       "        vertical-align: middle;\n",
       "    }\n",
       "\n",
       "    .dataframe tbody tr th {\n",
       "        vertical-align: top;\n",
       "    }\n",
       "\n",
       "    .dataframe thead th {\n",
       "        text-align: right;\n",
       "    }\n",
       "</style>\n",
       "<table border=\"1\" class=\"dataframe\">\n",
       "  <thead>\n",
       "    <tr style=\"text-align: right;\">\n",
       "      <th></th>\n",
       "      <th>Label</th>\n",
       "      <th>Headline</th>\n",
       "    </tr>\n",
       "  </thead>\n",
       "  <tbody>\n",
       "    <tr>\n",
       "      <th>0</th>\n",
       "      <td>0</td>\n",
       "      <td>Employer who stole nearly $3M in wages from 15...</td>\n",
       "    </tr>\n",
       "    <tr>\n",
       "      <th>1</th>\n",
       "      <td>1</td>\n",
       "      <td>Huge new Facebook data leak exposed intimate d...</td>\n",
       "    </tr>\n",
       "    <tr>\n",
       "      <th>2</th>\n",
       "      <td>0</td>\n",
       "      <td>A campaign has accelerated to turn a disused r...</td>\n",
       "    </tr>\n",
       "    <tr>\n",
       "      <th>3</th>\n",
       "      <td>1</td>\n",
       "      <td>Google launches global human trafficking helpl...</td>\n",
       "    </tr>\n",
       "    <tr>\n",
       "      <th>4</th>\n",
       "      <td>1</td>\n",
       "      <td>Over 3m Saudi Women Don’t Have ID Cards; Saudi...</td>\n",
       "    </tr>\n",
       "  </tbody>\n",
       "</table>\n",
       "</div>"
      ],
      "text/plain": [
       "   Label                                           Headline\n",
       "0      0  Employer who stole nearly $3M in wages from 15...\n",
       "1      1  Huge new Facebook data leak exposed intimate d...\n",
       "2      0  A campaign has accelerated to turn a disused r...\n",
       "3      1  Google launches global human trafficking helpl...\n",
       "4      1  Over 3m Saudi Women Don’t Have ID Cards; Saudi..."
      ]
     },
     "execution_count": 16,
     "metadata": {},
     "output_type": "execute_result"
    }
   ],
   "source": [
    "\n",
    "news1 = pd.read_csv('./djia_news/djia_news copy.csv')\n",
    "news2 = pd.read_csv('./nasdaq/nasdaq.csv')\n",
    "\n",
    "combined_news = news1.append(news2)\n",
    "combined_news = combined_news[['Label', 'Headline']]\n",
    "original_news = combined_news\n",
    "original_news.head()"
   ]
  },
  {
   "cell_type": "code",
   "execution_count": 18,
   "id": "narrative-folks",
   "metadata": {},
   "outputs": [
    {
     "data": {
      "text/html": [
       "<div>\n",
       "<style scoped>\n",
       "    .dataframe tbody tr th:only-of-type {\n",
       "        vertical-align: middle;\n",
       "    }\n",
       "\n",
       "    .dataframe tbody tr th {\n",
       "        vertical-align: top;\n",
       "    }\n",
       "\n",
       "    .dataframe thead th {\n",
       "        text-align: right;\n",
       "    }\n",
       "</style>\n",
       "<table border=\"1\" class=\"dataframe\">\n",
       "  <thead>\n",
       "    <tr style=\"text-align: right;\">\n",
       "      <th></th>\n",
       "      <th>Label</th>\n",
       "      <th>Headline</th>\n",
       "    </tr>\n",
       "  </thead>\n",
       "  <tbody>\n",
       "    <tr>\n",
       "      <th>0</th>\n",
       "      <td>0</td>\n",
       "      <td>Employer who stole nearly $3M in wages from 15...</td>\n",
       "    </tr>\n",
       "    <tr>\n",
       "      <th>1</th>\n",
       "      <td>0</td>\n",
       "      <td>Huge new Facebook data leak exposed intimate d...</td>\n",
       "    </tr>\n",
       "    <tr>\n",
       "      <th>2</th>\n",
       "      <td>0</td>\n",
       "      <td>A campaign has accelerated to turn a disused r...</td>\n",
       "    </tr>\n",
       "    <tr>\n",
       "      <th>3</th>\n",
       "      <td>0</td>\n",
       "      <td>Google launches global human trafficking helpl...</td>\n",
       "    </tr>\n",
       "    <tr>\n",
       "      <th>4</th>\n",
       "      <td>0</td>\n",
       "      <td>Over 3m Saudi Women Don’t Have ID Cards; Saudi...</td>\n",
       "    </tr>\n",
       "  </tbody>\n",
       "</table>\n",
       "</div>"
      ],
      "text/plain": [
       "   Label                                           Headline\n",
       "0      0  Employer who stole nearly $3M in wages from 15...\n",
       "1      0  Huge new Facebook data leak exposed intimate d...\n",
       "2      0  A campaign has accelerated to turn a disused r...\n",
       "3      0  Google launches global human trafficking helpl...\n",
       "4      0  Over 3m Saudi Women Don’t Have ID Cards; Saudi..."
      ]
     },
     "execution_count": 18,
     "metadata": {},
     "output_type": "execute_result"
    }
   ],
   "source": [
    "version_1 = original_news\n",
    "version_2 = original_news\n",
    "version_3 = original_news\n",
    "\n",
    "version_1 = version_1.replace([0,1,2], [1,0,0])\n",
    "version_2  = version_2.replace([0,1,2], [0,1,0])\n",
    "version_3  = version_3.replace([0,1,2], [0,0,1])"
   ]
  },
  {
   "cell_type": "code",
   "execution_count": 19,
   "id": "generous-pontiac",
   "metadata": {},
   "outputs": [],
   "source": [
    "train_limit = round(len(version_1) * 0.75)\n",
    "\n",
    "train_data = version_1[0:train_limit]\n",
    "test_data = version_1[train_limit:]"
   ]
  },
  {
   "cell_type": "code",
   "execution_count": 20,
   "id": "authorized-thomson",
   "metadata": {},
   "outputs": [],
   "source": [
    "train_headlines = train_data['Headline']\n",
    "train_labels = train_data[\"Label\"]\n",
    "\n",
    "test_headlines = test_data['Headline']\n",
    "test_labels = test_data['Label']\n"
   ]
  },
  {
   "cell_type": "code",
   "execution_count": 21,
   "id": "subjective-jerusalem",
   "metadata": {},
   "outputs": [],
   "source": [
    "vocab_size = 10000\n",
    "emb_size = 50\n",
    "max_length = 20000\n",
    "trunc_type = 'post'\n",
    "padding_type = 'post'\n",
    "oov_tok = '<oov>'"
   ]
  },
  {
   "cell_type": "code",
   "execution_count": 26,
   "id": "subject-jonathan",
   "metadata": {},
   "outputs": [],
   "source": [
    "tokenizer = Tokenizer(num_words = vocab_size)\n",
    "tokenizer.fit_on_texts(train_headlines)\n",
    "word_index = tokenizer.word_index\n",
    "\n",
    "train_sequences = tokenizer.texts_to_sequences(train_headlines)\n",
    "train_padded = pad_sequences(train_sequences, maxlen = max_length, padding = padding_type, truncating = trunc_type)\n",
    "\n",
    "test_sequences = tokenizer.texts_to_sequences(test_headlines)\n",
    "test_padded = pad_sequences(test_sequences, maxlen = max_length, padding = padding_type, truncating = trunc_type)"
   ]
  },
  {
   "cell_type": "code",
   "execution_count": 30,
   "id": "express-geneva",
   "metadata": {
    "collapsed": true
   },
   "outputs": [
    {
     "name": "stdout",
     "output_type": "stream",
     "text": [
      "Model: \"sequential_3\"\n",
      "_________________________________________________________________\n",
      "Layer (type)                 Output Shape              Param #   \n",
      "=================================================================\n",
      "embedding_3 (Embedding)      (None, 20000, 50)         500000    \n",
      "_________________________________________________________________\n",
      "bidirectional_4 (Bidirection (None, 20000, 64)         21248     \n",
      "_________________________________________________________________\n",
      "bidirectional_5 (Bidirection (None, 128)               66048     \n",
      "_________________________________________________________________\n",
      "dense_4 (Dense)              (None, 64)                8256      \n",
      "_________________________________________________________________\n",
      "dense_5 (Dense)              (None, 3)                 195       \n",
      "=================================================================\n",
      "Total params: 595,747\n",
      "Trainable params: 595,747\n",
      "Non-trainable params: 0\n",
      "_________________________________________________________________\n"
     ]
    }
   ],
   "source": [
    "model_1 = Sequential()\n",
    "model_1.add(Embedding(vocab_size, emb_size, input_length = max_length))\n",
    "model_1.add(Bidirectional(LSTM(32, return_sequences = True)))\n",
    "model_1.add(Bidirectional(LSTM(64)))\n",
    "model_1.add(Dense(64, activation = 'relu'))\n",
    "model_1.add(Dense(3, activation = 'softmax'))\n",
    "\n",
    "model_1.compile(loss = 'binary_crossentropy', optimizer = 'adam', metrics = ['accuracy'])\n",
    "# model_1.summary()"
   ]
  },
  {
   "cell_type": "code",
   "execution_count": null,
   "id": "complimentary-worship",
   "metadata": {},
   "outputs": [],
   "source": []
  }
 ],
 "metadata": {
  "kernelspec": {
   "display_name": "Python 3",
   "language": "python",
   "name": "python3"
  },
  "language_info": {
   "codemirror_mode": {
    "name": "ipython",
    "version": 3
   },
   "file_extension": ".py",
   "mimetype": "text/x-python",
   "name": "python",
   "nbconvert_exporter": "python",
   "pygments_lexer": "ipython3",
   "version": "3.7.9"
  }
 },
 "nbformat": 4,
 "nbformat_minor": 5
}
