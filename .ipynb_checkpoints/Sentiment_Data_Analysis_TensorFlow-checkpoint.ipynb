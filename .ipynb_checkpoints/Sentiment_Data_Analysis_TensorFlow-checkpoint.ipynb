{
 "cells": [
  {
   "cell_type": "code",
   "execution_count": 32,
   "id": "5c63ff9e",
   "metadata": {},
   "outputs": [],
   "source": [
    "import matplotlib.pyplot as plt\n",
    "import tensorflow as tf\n",
    "from tensorflow import keras\n",
    "from tensorflow.keras import layers\n",
    "from tensorflow.keras.preprocessing.text import Tokenizer\n",
    "from tensorflow.keras.preprocessing.sequence import pad_sequences\n",
    "import numpy as np\n",
    "import pandas as pd\n",
    "from sklearn.model_selection import train_test_split\n",
    "import pickle"
   ]
  },
  {
   "cell_type": "markdown",
   "id": "a26ed84e",
   "metadata": {},
   "source": [
    "Context\n",
    "\n",
    "Opportunities to analyze the general market based on sentiment analysis of news exist plentifully, but there are few opportunities to discover or predict the performance of a specific stock based on relevant headlines. This by-company prediction is more useful to users than general binary classifications of an entire market - but I found in my research that properly labeled data for this use case didn't exist publicly.\n",
    "\n",
    "Content\n",
    "\n",
    "Using web scraping methods written by colleague Yin Chang, we were able to obtain news headlines from Reddit r/WorldNews, as well as corresponding market data through Yahoo Finance. With these two vital pieces, I was able to then write this data.\n",
    "\n",
    "\n",
    "Each headline corresponds with a stock symbol (currently only tracking US markets - companies represented by the NASDAQ and DJIA) and a sentiment label. The sentiment labels are as follows:\n",
    "\n",
    "0 -> The stock went down by market close the day the article was published (negative)\n",
    "\n",
    "1 -> The stock went up by market close the day the article was published (positive)\n",
    "\n",
    "2 -> The stock stayed the same by market close the day the article was published (neutral)\n",
    "\n",
    "Note: We will be removing entries labeled 2, since there are fewer and we would like to make the output binary.\n",
    "\n",
    "Original Source: https://www.kaggle.com/sidarcidiacono/news-sentiment-analysis-for-stock-data-by-company"
   ]
  },
  {
   "cell_type": "code",
   "execution_count": 33,
   "id": "7c48d196",
   "metadata": {},
   "outputs": [],
   "source": [
    "news1 = pd.read_csv('./djia_news/djia_news copy.csv')\n",
    "news2 = pd.read_csv(\"./nasdaq/nasdaq.csv\")\n",
    "combined_news = news1.append(news2)\n",
    "combined_news = combined_news[combined_news.Label != 2]#removing contant label entries\n",
    "news_train, news_test = train_test_split(combined_news,test_size = .20, random_state = 1)#Feel free to adjust test_size, random_state allows you to replicate"
   ]
  },
  {
   "cell_type": "markdown",
   "id": "7d9628fa",
   "metadata": {},
   "source": [
    "In order to predict the sentiment, we split the data between train/test.\n",
    "We will not allow our model to see test data."
   ]
  },
  {
   "cell_type": "code",
   "execution_count": 34,
   "id": "a44ae35e",
   "metadata": {},
   "outputs": [],
   "source": [
    "labels_train = news_train['Label'].tolist() # separating each column into a list\n",
    "ticker_train = news_train['Ticker'].tolist()\n",
    "headline_train = news_train['Headline'].tolist()\n",
    "labels_test = news_train['Label'].tolist() # testing data\n",
    "ticker_test = news_train['Ticker'].tolist()\n",
    "headline_test = news_train['Headline'].tolist()"
   ]
  },
  {
   "cell_type": "markdown",
   "id": "a5faee9d",
   "metadata": {},
   "source": [
    "Here we fit a tokenizer on the training headlines and then use that tokenizer to padded training and testing sequences."
   ]
  },
  {
   "cell_type": "code",
   "execution_count": 40,
   "id": "7e86fcfa",
   "metadata": {},
   "outputs": [],
   "source": [
    "vocab_size = 15000 #adjust\n",
    "dim_size= 16 #adjust\n",
    "input_len = 69 #adjust\n",
    "tokenizer = Tokenizer(num_words = vocab_size, oov_token = \"<OOV>\")\n",
    "tokenizer.fit_on_texts(headline_train)\n",
    "word_index = tokenizer.word_index\n",
    "\n",
    "train_sequence = tokenizer.texts_to_sequences(headline_train)\n",
    "train_padded = pad_sequences(train_sequence, padding = \"post\", truncating = 'post')\n",
    "\n",
    "test_sequence = tokenizer.texts_to_sequences(headline_test)\n",
    "test_padded = pad_sequences(test_sequence, padding = \"post\",truncating = 'post')"
   ]
  },
  {
   "cell_type": "code",
   "execution_count": 41,
   "id": "6eafad1e",
   "metadata": {},
   "outputs": [],
   "source": [
    "#Feel free to add layers, change activation function and/or number of number of nodes\n",
    "#dropout layers can be added\n",
    "model = tf.keras.Sequential([ \n",
    "    tf.keras.layers.Embedding(vocab_size, dim_size , input_length = input_len ),\n",
    "    tf.keras.layers.GlobalAveragePooling1D(), #Pooling\n",
    "    tf.keras.layers.Dense(24,activation= 'relu'),\n",
    "    tf.keras.layers.Dense(1,activation = 'sigmoid')\n",
    "])\n",
    "model.compile(loss = 'binary_crossentropy',optimizer = 'adam',metrics = ['accuracy'])"
   ]
  },
  {
   "cell_type": "code",
   "execution_count": 42,
   "id": "fe710cfa",
   "metadata": {},
   "outputs": [
    {
     "name": "stdout",
     "output_type": "stream",
     "text": [
      "Model: \"sequential_2\"\n",
      "_________________________________________________________________\n",
      "Layer (type)                 Output Shape              Param #   \n",
      "=================================================================\n",
      "embedding_2 (Embedding)      (None, 69, 16)            240000    \n",
      "_________________________________________________________________\n",
      "global_average_pooling1d_2 ( (None, 16)                0         \n",
      "_________________________________________________________________\n",
      "dense_4 (Dense)              (None, 24)                408       \n",
      "_________________________________________________________________\n",
      "dense_5 (Dense)              (None, 1)                 25        \n",
      "=================================================================\n",
      "Total params: 240,433\n",
      "Trainable params: 240,433\n",
      "Non-trainable params: 0\n",
      "_________________________________________________________________\n"
     ]
    }
   ],
   "source": [
    "model.summary()\n",
    "train_padded = np.array(train_padded)\n",
    "labels_train = np.array(labels_train)\n",
    "test_padded = np.array(test_padded)\n",
    "labels_test = np.array(labels_test)"
   ]
  },
  {
   "cell_type": "code",
   "execution_count": 43,
   "id": "790eb99e",
   "metadata": {
    "scrolled": true
   },
   "outputs": [
    {
     "name": "stdout",
     "output_type": "stream",
     "text": [
      "Train on 12184 samples, validate on 12184 samples\n",
      "Epoch 1/30\n",
      "WARNING:tensorflow:From C:\\Users\\mashd\\anaconda3\\lib\\site-packages\\tensorflow\\python\\keras\\engine\\training_v1.py:2048: Model.state_updates (from tensorflow.python.keras.engine.training) is deprecated and will be removed in a future version.\n",
      "Instructions for updating:\n",
      "This property should not be used in TensorFlow 2.0, as updates are applied automatically.\n",
      "12184/12184 - 1s - loss: 0.6467 - acc: 0.6582 - val_loss: 0.6366 - val_acc: 0.6582\n",
      "Epoch 2/30\n",
      "12184/12184 - 1s - loss: 0.6308 - acc: 0.6582 - val_loss: 0.6147 - val_acc: 0.6584\n",
      "Epoch 3/30\n",
      "12184/12184 - 1s - loss: 0.5807 - acc: 0.6746 - val_loss: 0.5098 - val_acc: 0.7438\n",
      "Epoch 4/30\n",
      "12184/12184 - 1s - loss: 0.4739 - acc: 0.7708 - val_loss: 0.4077 - val_acc: 0.7985\n",
      "Epoch 5/30\n",
      "12184/12184 - 1s - loss: 0.3902 - acc: 0.8225 - val_loss: 0.3360 - val_acc: 0.8500\n",
      "Epoch 6/30\n",
      "12184/12184 - 1s - loss: 0.3350 - acc: 0.8519 - val_loss: 0.2886 - val_acc: 0.8826\n",
      "Epoch 7/30\n",
      "12184/12184 - 1s - loss: 0.2987 - acc: 0.8656 - val_loss: 0.2564 - val_acc: 0.8949\n",
      "Epoch 8/30\n",
      "12184/12184 - 1s - loss: 0.2666 - acc: 0.8843 - val_loss: 0.2299 - val_acc: 0.9064\n",
      "Epoch 9/30\n",
      "12184/12184 - 1s - loss: 0.2441 - acc: 0.8930 - val_loss: 0.2066 - val_acc: 0.9155\n",
      "Epoch 10/30\n",
      "12184/12184 - 1s - loss: 0.2241 - acc: 0.9005 - val_loss: 0.1933 - val_acc: 0.9185\n",
      "Epoch 11/30\n",
      "12184/12184 - 1s - loss: 0.2082 - acc: 0.9088 - val_loss: 0.1762 - val_acc: 0.9265\n",
      "Epoch 12/30\n",
      "12184/12184 - 1s - loss: 0.1949 - acc: 0.9144 - val_loss: 0.1752 - val_acc: 0.9223\n",
      "Epoch 13/30\n",
      "12184/12184 - 1s - loss: 0.1848 - acc: 0.9155 - val_loss: 0.1537 - val_acc: 0.9352\n",
      "Epoch 14/30\n",
      "12184/12184 - 1s - loss: 0.1742 - acc: 0.9186 - val_loss: 0.1458 - val_acc: 0.9379\n",
      "Epoch 15/30\n",
      "12184/12184 - 1s - loss: 0.1653 - acc: 0.9251 - val_loss: 0.1379 - val_acc: 0.9392\n",
      "Epoch 16/30\n",
      "12184/12184 - 1s - loss: 0.1589 - acc: 0.9264 - val_loss: 0.1281 - val_acc: 0.9453\n",
      "Epoch 17/30\n",
      "12184/12184 - 1s - loss: 0.1513 - acc: 0.9294 - val_loss: 0.1293 - val_acc: 0.9428\n",
      "Epoch 18/30\n",
      "12184/12184 - 1s - loss: 0.1461 - acc: 0.9310 - val_loss: 0.1291 - val_acc: 0.9417\n",
      "Epoch 19/30\n",
      "12184/12184 - 1s - loss: 0.1395 - acc: 0.9349 - val_loss: 0.1169 - val_acc: 0.9473\n",
      "Epoch 20/30\n",
      "12184/12184 - 1s - loss: 0.1343 - acc: 0.9373 - val_loss: 0.1101 - val_acc: 0.9508\n",
      "Epoch 21/30\n",
      "12184/12184 - 1s - loss: 0.1315 - acc: 0.9362 - val_loss: 0.1191 - val_acc: 0.9452\n",
      "Epoch 22/30\n",
      "12184/12184 - 1s - loss: 0.1310 - acc: 0.9364 - val_loss: 0.1218 - val_acc: 0.9415\n",
      "Epoch 23/30\n",
      "12184/12184 - 1s - loss: 0.1254 - acc: 0.9393 - val_loss: 0.1159 - val_acc: 0.9480\n",
      "Epoch 24/30\n",
      "12184/12184 - 1s - loss: 0.1229 - acc: 0.9401 - val_loss: 0.0971 - val_acc: 0.9548\n",
      "Epoch 25/30\n",
      "12184/12184 - 1s - loss: 0.1219 - acc: 0.9413 - val_loss: 0.0967 - val_acc: 0.9557\n",
      "Epoch 26/30\n",
      "12184/12184 - 1s - loss: 0.1188 - acc: 0.9421 - val_loss: 0.0924 - val_acc: 0.9562\n",
      "Epoch 27/30\n",
      "12184/12184 - 1s - loss: 0.1161 - acc: 0.9422 - val_loss: 0.0902 - val_acc: 0.9585\n",
      "Epoch 28/30\n",
      "12184/12184 - 1s - loss: 0.1164 - acc: 0.9413 - val_loss: 0.0911 - val_acc: 0.9569\n",
      "Epoch 29/30\n",
      "12184/12184 - 1s - loss: 0.1112 - acc: 0.9452 - val_loss: 0.0901 - val_acc: 0.9587\n",
      "Epoch 30/30\n",
      "12184/12184 - 1s - loss: 0.1115 - acc: 0.9449 - val_loss: 0.0944 - val_acc: 0.9558\n"
     ]
    }
   ],
   "source": [
    "num_epochs = 30 #adjust\n",
    "history = model.fit(train_padded, labels_train, epochs=num_epochs, validation_data=(test_padded, labels_test), verbose=2)"
   ]
  },
  {
   "cell_type": "code",
   "execution_count": 51,
   "id": "019a43c9",
   "metadata": {},
   "outputs": [
    {
     "data": {
      "text/plain": [
       "{'loss': [0.6466838986718647,\n",
       "  0.6308150425289152,\n",
       "  0.5806909841843052,\n",
       "  0.4738907181386954,\n",
       "  0.3901764080270841,\n",
       "  0.3349994585573556,\n",
       "  0.29872394815449327,\n",
       "  0.2665699790338897,\n",
       "  0.2440984400866146,\n",
       "  0.2240609043006903,\n",
       "  0.20820402347642344,\n",
       "  0.1949332428463806,\n",
       "  0.18483499629827838,\n",
       "  0.17423794865216852,\n",
       "  0.1652892644389319,\n",
       "  0.15890121937424276,\n",
       "  0.15128144139982883,\n",
       "  0.1460974119745503,\n",
       "  0.13947307774142773,\n",
       "  0.1343468413373317,\n",
       "  0.1314686906162603,\n",
       "  0.1309914335129062,\n",
       "  0.12542387595533522,\n",
       "  0.12287128432968769,\n",
       "  0.1219028915845479,\n",
       "  0.11881814463625437,\n",
       "  0.11610996519666085,\n",
       "  0.11636870948063333,\n",
       "  0.11118688870732595,\n",
       "  0.11154836049096724],\n",
       " 'acc': [0.65815824,\n",
       "  0.6582403,\n",
       "  0.6745732,\n",
       "  0.77076495,\n",
       "  0.8224721,\n",
       "  0.851937,\n",
       "  0.86564344,\n",
       "  0.8842745,\n",
       "  0.8929744,\n",
       "  0.9005253,\n",
       "  0.90881485,\n",
       "  0.9143959,\n",
       "  0.9154629,\n",
       "  0.9185817,\n",
       "  0.9251477,\n",
       "  0.92637885,\n",
       "  0.92941564,\n",
       "  0.930975,\n",
       "  0.93491465,\n",
       "  0.93729484,\n",
       "  0.93622786,\n",
       "  0.936392,\n",
       "  0.9393467,\n",
       "  0.94008535,\n",
       "  0.9413165,\n",
       "  0.94213724,\n",
       "  0.9422193,\n",
       "  0.9413165,\n",
       "  0.945174,\n",
       "  0.94492775],\n",
       " 'val_loss': [0.6365888170012501,\n",
       "  0.6147181240649734,\n",
       "  0.5097830356811115,\n",
       "  0.40772662509920093,\n",
       "  0.3360173863090345,\n",
       "  0.2885881994831977,\n",
       "  0.2563946853518408,\n",
       "  0.22990097730706102,\n",
       "  0.20660757208371427,\n",
       "  0.19325268934881382,\n",
       "  0.17623744225979476,\n",
       "  0.1752155467486272,\n",
       "  0.15373423786067056,\n",
       "  0.1457693545992877,\n",
       "  0.13794272606281255,\n",
       "  0.1280635682962595,\n",
       "  0.12926029061222263,\n",
       "  0.12911309642828536,\n",
       "  0.11692086842525029,\n",
       "  0.11006984132502866,\n",
       "  0.11905479440202622,\n",
       "  0.12179509427298156,\n",
       "  0.11589125810693693,\n",
       "  0.09707586948153853,\n",
       "  0.09671921292790753,\n",
       "  0.09240520547021203,\n",
       "  0.0901979480564927,\n",
       "  0.09109288639219591,\n",
       "  0.09009173159497941,\n",
       "  0.09436586216454121],\n",
       " 'val_acc': [0.65815824,\n",
       "  0.65840447,\n",
       "  0.7438444,\n",
       "  0.79850626,\n",
       "  0.8499672,\n",
       "  0.8825509,\n",
       "  0.8949442,\n",
       "  0.9063526,\n",
       "  0.9154629,\n",
       "  0.91849965,\n",
       "  0.9264609,\n",
       "  0.9222751,\n",
       "  0.93524295,\n",
       "  0.9378693,\n",
       "  0.9391825,\n",
       "  0.94525605,\n",
       "  0.94279385,\n",
       "  0.94172686,\n",
       "  0.94730794,\n",
       "  0.95083714,\n",
       "  0.945174,\n",
       "  0.94148064,\n",
       "  0.9480466,\n",
       "  0.95477676,\n",
       "  0.9556796,\n",
       "  0.95617205,\n",
       "  0.9584701,\n",
       "  0.9569107,\n",
       "  0.95871633,\n",
       "  0.95584375]}"
      ]
     },
     "execution_count": 51,
     "metadata": {},
     "output_type": "execute_result"
    }
   ],
   "source": [
    "history.history\n"
   ]
  },
  {
   "cell_type": "markdown",
   "id": "f8b40715",
   "metadata": {},
   "source": [
    "Based on the graphs below, we can determine that the accuracy stabilizes around 15-20 Epochs"
   ]
  },
  {
   "cell_type": "code",
   "execution_count": 52,
   "id": "c29c92f5",
   "metadata": {},
   "outputs": [
    {
     "data": {
      "image/png": "[encoded data removed]",
      "text/plain": [
       "<Figure size 432x288 with 1 Axes>"
      ]
     },
     "metadata": {
      "needs_background": "light"
     },
     "output_type": "display_data"
    },
    {
     "data": {
      "image/png": "[encoded data removed]",
      "text/plain": [
       "<Figure size 432x288 with 1 Axes>"
      ]
     },
     "metadata": {
      "needs_background": "light"
     },
     "output_type": "display_data"
    }
   ],
   "source": [
    "def plot_graphs(history, string):\n",
    "  plt.plot(history.history[string])\n",
    "  plt.plot(history.history['val_'+string])\n",
    "  plt.xlabel(\"Epochs\")\n",
    "  plt.ylabel(string)\n",
    "  plt.legend([string, 'val_'+string])\n",
    "  plt.show()\n",
    "  \n",
    "plot_graphs(history, \"acc\")\n",
    "plot_graphs(history, \"loss\")"
   ]
  },
  {
   "cell_type": "markdown",
   "id": "55776c90",
   "metadata": {},
   "source": [
    "We will now test this model by applying new data. Printed is the probability that your output = 1 (The stock went up by market close the day the article was published).\n",
    "\n",
    "Note that the further our prediction is from either 1 or 0, the more uncertainty there is. There could be a possibility of its label being 2 (The stock stayed the same by market close the day the article was published (neutral)), but this model is not made to predict that label.\n",
    "\n",
    "These headlines were taken from Yahoo! Finance.  "
   ]
  },
  {
   "cell_type": "code",
   "execution_count": 67,
   "id": "353f96e0",
   "metadata": {},
   "outputs": [],
   "source": [
    "## This part of the code is for demontration purposes\n",
    "sentence = [\"Ford Stocks Rise After Awesome Profits Earned\",\"Intel Stock Is Sliding Because Its Problems Are Big Problems and the Solutions Aren’t Easy\"]\n",
    "sequences = tokenizer.texts_to_sequences(sentence)\n",
    "padded = pad_sequences(sequences, maxlen=69, padding='post', truncating='post')\n",
    "prediction = model.predict(padded)\n",
    "result = []\n",
    "j=0\n",
    "for i in prediction:\n",
    "    if i > 0.5:\n",
    "        result.append('Positive Sentiment')\n",
    "    else:\n",
    "        result.append('Negative Sentiment')\n",
    "    j=+1"
   ]
  },
  {
   "cell_type": "code",
   "execution_count": 68,
   "id": "5012bf55",
   "metadata": {},
   "outputs": [
    {
     "name": "stdout",
     "output_type": "stream",
     "text": [
      "Ford Stocks Rise After Awesome Profits Earned : Positive Sentiment\n",
      "Intel Stock Is Sliding Because Its Problems Are Big Problems and the Solutions Aren’t Easy : Negative Sentiment\n"
     ]
    }
   ],
   "source": [
    "j = 0\n",
    "for i in sentence:\n",
    "    print(i,\":\",result[j])\n",
    "    j=+1"
   ]
  },
  {
   "cell_type": "code",
   "execution_count": 69,
   "id": "361586be",
   "metadata": {},
   "outputs": [
    {
     "data": {
      "text/plain": [
       "array([[9.5211959e-01],\n",
       "       [1.2844783e-08]], dtype=float32)"
      ]
     },
     "execution_count": 69,
     "metadata": {},
     "output_type": "execute_result"
    }
   ],
   "source": [
    "prediction"
   ]
  },
  {
   "cell_type": "code",
   "execution_count": 65,
   "id": "e56a9c8e",
   "metadata": {},
   "outputs": [],
   "source": [
    "# saving\n",
    "model.save('model')\n",
    "with open('tokenizer.pickle', 'wb') as handle:\n",
    "    pickle.dump(tokenizer, handle, protocol=pickle.HIGHEST_PROTOCOL)"
   ]
  },
  {
   "cell_type": "markdown",
   "id": "52c62256",
   "metadata": {},
   "source": [
    "This is how you would load the model and tokenizer:"
   ]
  },
  {
   "cell_type": "code",
   "execution_count": 66,
   "id": "6351707b",
   "metadata": {},
   "outputs": [],
   "source": [
    "model2 = keras.models.load_model('model')\n",
    "with open('tokenizer.pickle', 'rb') as handle:\n",
    "    tokenizer2 = pickle.load(handle)"
   ]
  },
  {
   "cell_type": "code",
   "execution_count": null,
   "id": "341207e4",
   "metadata": {},
   "outputs": [],
   "source": []
  }
 ],
 "metadata": {
  "kernelspec": {
   "display_name": "Python 3",
   "language": "python",
   "name": "python3"
  },
  "language_info": {
   "codemirror_mode": {
    "name": "ipython",
    "version": 3
   },
   "file_extension": ".py",
   "mimetype": "text/x-python",
   "name": "python",
   "nbconvert_exporter": "python",
   "pygments_lexer": "ipython3",
   "version": "3.8.8"
  }
 },
 "nbformat": 4,
 "nbformat_minor": 5
}
