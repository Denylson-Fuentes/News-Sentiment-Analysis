{
 "cells": [
  {
   "cell_type": "code",
   "execution_count": 1,
   "id": "2122cb72-c4fe-4583-8604-0da824619a01",
   "metadata": {
    "gradient": {
     "editing": false
    },
    "tags": []
   },
   "outputs": [],
   "source": [
    "# !pip install torch==1.9.0\n",
    "# !pip install torchtext==0.10\n",
    "# !pip install transformers==4.7\n",
    "# !pip install fastai==2.4\n",
    "# !pip install ipywidgets\n",
    "# !pip install rjieba"
   ]
  },
  {
   "cell_type": "code",
   "execution_count": 2,
   "id": "e6e8b0f7-ed9b-4b2a-abb7-3cbc923467ce",
   "metadata": {
    "gradient": {
     "editing": false
    },
    "tags": []
   },
   "outputs": [],
   "source": [
    "from fastai.text.all import *\n",
    "import pandas as pd"
   ]
  },
  {
   "cell_type": "code",
   "execution_count": 3,
   "id": "2aafd852-eb19-4bb5-ac80-c84d06fb50e4",
   "metadata": {
    "gradient": {
     "editing": false
    },
    "tags": []
   },
   "outputs": [],
   "source": [
    "path = '../Data/balanced_clean_data.csv'"
   ]
  },
  {
   "cell_type": "code",
   "execution_count": 4,
   "id": "cfb80e04-e7d1-4353-acd7-af3459514dfb",
   "metadata": {
    "gradient": {
     "editing": false
    },
    "tags": []
   },
   "outputs": [],
   "source": [
    "df = pd.read_csv(path)"
   ]
  },
  {
   "cell_type": "code",
   "execution_count": 5,
   "id": "17e7eecc-e37f-4a93-9e94-194c1b8fdbcf",
   "metadata": {
    "gradient": {
     "editing": false
    },
    "tags": []
   },
   "outputs": [],
   "source": [
    "# binary_df = df[df['Score'] != 0]"
   ]
  },
  {
   "cell_type": "code",
   "execution_count": 6,
   "id": "41476329-ce67-4e57-b86c-6ef3e6de2b7e",
   "metadata": {
    "gradient": {
     "editing": false
    },
    "tags": []
   },
   "outputs": [],
   "source": [
    "# binary_df = binary_df.replace([-1, 1], [0, 1])"
   ]
  },
  {
   "cell_type": "code",
   "execution_count": 7,
   "id": "21977aef-1537-40f5-b1f2-eb750208aea5",
   "metadata": {
    "gradient": {
     "editing": false
    },
    "tags": []
   },
   "outputs": [],
   "source": [
    "# df.head()"
   ]
  },
  {
   "cell_type": "code",
   "execution_count": 8,
   "id": "8406a941-1181-43ae-b3cf-a1a700e84572",
   "metadata": {
    "gradient": {
     "editing": false
    },
    "tags": []
   },
   "outputs": [],
   "source": [
    "df['Score'] = df['Score'].replace([-1, 0, 1], [0, 2, 1])"
   ]
  },
  {
   "cell_type": "code",
   "execution_count": 9,
   "id": "9d9b93ac-ef9e-4f3f-84d7-301bb5ad3292",
   "metadata": {
    "gradient": {
     "editing": false
    },
    "tags": []
   },
   "outputs": [],
   "source": [
    "# df['Score'] = pd.get_dummies(df['Score'])"
   ]
  },
  {
   "cell_type": "code",
   "execution_count": 10,
   "id": "5447333b-d570-4a9b-a93d-e4ffea499f75",
   "metadata": {
    "gradient": {},
    "tags": []
   },
   "outputs": [],
   "source": [
    "# df['Score'].shape"
   ]
  },
  {
   "cell_type": "code",
   "execution_count": 11,
   "id": "08d9b3b6-3a5b-4260-ab69-0b1b79eb0de4",
   "metadata": {
    "gradient": {},
    "tags": []
   },
   "outputs": [],
   "source": [
    "# train_df = binary_df[:int(len(binary_df) * 0.75)]\n",
    "# test_df = binary_df[int(len(binary_df) * 0.75) : len(binary_df)]\n",
    "\n",
    "train_df = df[:int(len(df) * 0.75)]\n",
    "test_df = df[int(len(df) * 0.75) : len(df)]"
   ]
  },
  {
   "cell_type": "code",
   "execution_count": 12,
   "id": "b6c6edc8-cbc2-455e-98e4-1a4fcc3d4dfc",
   "metadata": {
    "gradient": {},
    "tags": []
   },
   "outputs": [
    {
     "data": {
      "text/plain": [
       "(11691, 3897)"
      ]
     },
     "execution_count": 12,
     "metadata": {},
     "output_type": "execute_result"
    }
   ],
   "source": [
    "len(train_df), len(test_df)"
   ]
  },
  {
   "cell_type": "markdown",
   "id": "c3965551-89b8-4071-8a15-435be7a784c0",
   "metadata": {
    "tags": []
   },
   "source": [
    "## Binary"
   ]
  },
  {
   "cell_type": "code",
   "execution_count": 13,
   "id": "f87a603d-19b4-41b4-89e7-7976ebf0ca00",
   "metadata": {
    "gradient": {},
    "tags": []
   },
   "outputs": [],
   "source": [
    "## BINARY\n",
    "\n",
    "## from transformers import AutoTokenizer, AutoModelForSequenceClassification\n",
    "\n",
    "## hf_tokenizer = AutoTokenizer.from_pretrained(\"distilbert-base-uncased\")\n",
    "## hf_model = AutoModelForSequenceClassification.from_pretrained('distilbert-base-uncased')  92.6% accuracy\n",
    "\n",
    "## from transformers import DistilBertTokenizer, DistilBertForSequenceClassification\n",
    "\n",
    "## hf_tokenizer = DistilBertTokenizer.from_pretrained('distilbert-base-uncased')\n",
    "## hf_model = DistilBertForSequenceClassification.from_pretrained('distilbert-base-uncased') 93.3% accuracy \n",
    "\n",
    "## from transformers import AutoTokenizer, AutoModelForSequenceClassification\n",
    "\n",
    "## hf_tokenizer = AutoTokenizer.from_pretrained(\"huggingface/distilbert-base-uncased-finetuned-mnli\")\n",
    "## hf_model = AutoModelForSequenceClassification.from_pretrained(\"huggingface/distilbert-base-uncased-finetuned-mnli\") 92.2% accuracy\n",
    "\n"
   ]
  },
  {
   "cell_type": "markdown",
   "id": "5af87cd6-9a92-48d2-abcd-615e32595e45",
   "metadata": {
    "tags": []
   },
   "source": [
    "## MULTI-CLASS"
   ]
  },
  {
   "cell_type": "code",
   "execution_count": 14,
   "id": "f5c7cd85-d0c1-42a8-bd1c-0a4bf227f68c",
   "metadata": {
    "gradient": {},
    "tags": []
   },
   "outputs": [
    {
     "name": "stderr",
     "output_type": "stream",
     "text": [
      "Some weights of the model checkpoint at distilbert-base-cased were not used when initializing DistilBertForSequenceClassification: ['vocab_projector.weight', 'vocab_layer_norm.weight', 'vocab_transform.bias', 'vocab_transform.weight', 'vocab_projector.bias', 'vocab_layer_norm.bias']\n",
      "- This IS expected if you are initializing DistilBertForSequenceClassification from the checkpoint of a model trained on another task or with another architecture (e.g. initializing a BertForSequenceClassification model from a BertForPreTraining model).\n",
      "- This IS NOT expected if you are initializing DistilBertForSequenceClassification from the checkpoint of a model that you expect to be exactly identical (initializing a BertForSequenceClassification model from a BertForSequenceClassification model).\n",
      "Some weights of DistilBertForSequenceClassification were not initialized from the model checkpoint at distilbert-base-cased and are newly initialized: ['classifier.weight', 'classifier.bias', 'pre_classifier.bias', 'pre_classifier.weight']\n",
      "You should probably TRAIN this model on a down-stream task to be able to use it for predictions and inference.\n"
     ]
    }
   ],
   "source": [
    "## MULTI-CLASS\n",
    "\n",
    "from transformers import DistilBertTokenizer, DistilBertForSequenceClassification\n",
    "\n",
    "hf_tokenizer = DistilBertTokenizer.from_pretrained('distilbert-base-cased', do_lower_case = True)\n",
    "hf_model = DistilBertForSequenceClassification.from_pretrained('distilbert-base-cased', num_labels = 3) \n",
    "# 74.4% accuracy\n",
    "\n",
    "# from transformers import AutoTokenizer, AutoModelForSequenceClassification\n",
    "\n",
    "# hf_tokenizer =  AutoTokenizer.from_pretrained('bert-base-uncased')\n",
    "# hf_model = AutoModelForSequenceClassification.from_pretrained('bert-base-uncased', num_labels = 3)"
   ]
  },
  {
   "cell_type": "code",
   "execution_count": 15,
   "id": "879d49c5-2477-479b-b950-292590f17719",
   "metadata": {
    "gradient": {
     "editing": false
    },
    "tags": []
   },
   "outputs": [],
   "source": [
    "sample_text = train_df['Text'][0]\n",
    "# sample_text"
   ]
  },
  {
   "cell_type": "code",
   "execution_count": 16,
   "id": "b69845ec-f0b7-42ef-8e63-d4c015739b2e",
   "metadata": {
    "gradient": {
     "editing": false
    },
    "tags": []
   },
   "outputs": [],
   "source": [
    "tokenizer_outputs = hf_tokenizer(sample_text, return_tensors= 'pt')\n",
    "# tokenizer_outputs"
   ]
  },
  {
   "cell_type": "code",
   "execution_count": 17,
   "id": "e888c321-189d-43fe-b316-2a1c44832df4",
   "metadata": {
    "gradient": {
     "editing": false
    },
    "tags": []
   },
   "outputs": [
    {
     "data": {
      "text/plain": [
       "(torch.Size([1, 198]), torch.Size([1, 198]))"
      ]
     },
     "execution_count": 17,
     "metadata": {},
     "output_type": "execute_result"
    }
   ],
   "source": [
    "tokenizer_outputs['input_ids'].shape, tokenizer_outputs['attention_mask'].shape"
   ]
  },
  {
   "cell_type": "code",
   "execution_count": 18,
   "id": "2f38a545-d76f-4a0a-b016-7005f5497e79",
   "metadata": {
    "gradient": {
     "editing": false
    },
    "tags": []
   },
   "outputs": [],
   "source": [
    "class HF_Dataset(torch.utils.data.Dataset):\n",
    "    def __init__(self, df, hf_tokenizer):\n",
    "        self.df = df\n",
    "        self.hf_tokenizer = hf_tokenizer\n",
    "        \n",
    "    def __len__(self):\n",
    "        return len(self.df)\n",
    "    \n",
    "    def decode(self, token_ids):\n",
    "        return ' '.join([hf_tokenizer.decode(x) for x in tokenizer_outputs['input_ids']])\n",
    "    \n",
    "    def decode_to_original(self, token_ids):\n",
    "        return self.hf_tokenizer.decode(token_ids.squeeze())\n",
    "    \n",
    "    def __getitem__(self, index):\n",
    "        label, text = self.df.iloc[index]\n",
    "        label = torch.tensor(label)\n",
    "        \n",
    "        tokenizer_output = self.hf_tokenizer(text, return_tensors = 'pt', padding = 'max_length', truncation = True, max_length = 512)\n",
    "        tokenizer_output['input_ids'].squeeze_()\n",
    "        tokenizer_output['attention_mask'].squeeze_()\n",
    "        \n",
    "        return tokenizer_output, label"
   ]
  },
  {
   "cell_type": "code",
   "execution_count": null,
   "id": "ec731892-1f98-4615-9787-59fb72f55013",
   "metadata": {
    "gradient": {},
    "tags": []
   },
   "outputs": [
    {
     "data": {
      "text/plain": [
       "(11691, 3897)"
      ]
     },
     "execution_count": 19,
     "metadata": {},
     "output_type": "execute_result"
    }
   ],
   "source": [
    "train_dataset = HF_Dataset(train_df, hf_tokenizer)\n",
    "test_dataset = HF_Dataset(test_df, hf_tokenizer)\n",
    "len(train_dataset), len(test_dataset)"
   ]
  },
  {
   "cell_type": "code",
   "execution_count": 19,
   "id": "6c581e66-0452-4469-b938-0d7370597d40",
   "metadata": {
    "gradient": {
     "editing": false
    }
   },
   "outputs": [
    {
     "data": {
      "text/plain": [
       "(11691, 3897)"
      ]
     },
     "execution_count": 19,
     "metadata": {},
     "output_type": "execute_result"
    }
   ],
   "source": [
    "train_dataset = HF_Dataset(train_df, hf_tokenizer)\n",
    "test_dataset = HF_Dataset(test_df, hf_tokenizer)\n",
    "len(train_dataset), len(test_dataset)"
   ]
  },
  {
   "cell_type": "code",
   "execution_count": 20,
   "id": "b884126f-b4df-43f8-bc35-7373af8b0fd2",
   "metadata": {
    "gradient": {
     "editing": false
    }
   },
   "outputs": [
    {
     "data": {
      "text/plain": [
       "(dict_keys(['input_ids', 'attention_mask']), tensor(1))"
      ]
     },
     "execution_count": 20,
     "metadata": {},
     "output_type": "execute_result"
    }
   ],
   "source": [
    "tokenizer_outputs, label = train_dataset[0]\n",
    "tokenizer_outputs.keys(), label"
   ]
  },
  {
   "cell_type": "code",
   "execution_count": 21,
   "id": "7eab1a24-d057-4c17-8523-27fc188fa3d2",
   "metadata": {
    "gradient": {
     "editing": false
    },
    "tags": []
   },
   "outputs": [],
   "source": [
    "# train_dataset.decode(tokenizer_outputs['input_ids'])[:500]"
   ]
  },
  {
   "cell_type": "code",
   "execution_count": 22,
   "id": "e3c42681-c941-41ee-a858-4753a5b78bde",
   "metadata": {
    "gradient": {
     "editing": false
    },
    "tags": []
   },
   "outputs": [],
   "source": [
    "# train_dataset.decode_to_original(tokenizer_outputs['input_ids'])[:500]"
   ]
  },
  {
   "cell_type": "code",
   "execution_count": 23,
   "id": "6282d872-9e29-404b-84c3-256813773a21",
   "metadata": {
    "gradient": {
     "editing": false
    },
    "tags": []
   },
   "outputs": [],
   "source": [
    "train_dl = DataLoader(train_dataset, bs = 16, shuffle = True)\n",
    "test_dl = DataLoader(test_dataset, bs = 16)\n",
    "\n",
    "dls = DataLoaders(train_dl, test_dl)"
   ]
  },
  {
   "cell_type": "code",
   "execution_count": 24,
   "id": "8dceae00-eb8e-40f8-bade-b2cda9c6250e",
   "metadata": {
    "gradient": {
     "editing": false
    },
    "tags": []
   },
   "outputs": [],
   "source": [
    "train_dl = DataLoader(train_dataset, bs = 16, shuffle = True)\n",
    "test_dl = DataLoader(test_dataset, bs = 16)\n",
    "\n",
    "dls = DataLoaders(train_dl, test_dl)"
   ]
  },
  {
   "cell_type": "code",
   "execution_count": 25,
   "id": "b8aee64e-6e82-4bf1-bb9a-50a8a94f7b5e",
   "metadata": {
    "gradient": {
     "editing": false
    }
   },
   "outputs": [
    {
     "data": {
      "text/plain": [
       "(dict_keys(['input_ids', 'attention_mask']),\n",
       " torch.Size([16, 512]),\n",
       " torch.Size([16]))"
      ]
     },
     "execution_count": 25,
     "metadata": {},
     "output_type": "execute_result"
    }
   ],
   "source": [
    "batched_data, batched_labels = train_dl.one_batch()\n",
    "batched_data.keys(), batched_data['input_ids'].shape, batched_labels.shape"
   ]
  },
  {
   "cell_type": "code",
   "execution_count": 26,
   "id": "e0071d20-374f-4503-a2a2-87b5ff9194fe",
   "metadata": {
    "gradient": {},
    "tags": []
   },
   "outputs": [],
   "source": [
    "class HF_Model(nn.Module):\n",
    "    def __init__(self, hf_model):\n",
    "        super().__init__()\n",
    "        \n",
    "        self.hf_model = hf_model\n",
    "    \n",
    "    def forward(self, tokenizer_outputs):\n",
    "        model_output = self.hf_model(**tokenizer_outputs)\n",
    "        \n",
    "        return model_output.logits"
   ]
  },
  {
   "cell_type": "code",
   "execution_count": 27,
   "id": "85004ba1-c3c5-4480-b2a4-e9e8138fcff5",
   "metadata": {
    "gradient": {},
    "tags": []
   },
   "outputs": [],
   "source": [
    "model = HF_Model(hf_model)"
   ]
  },
  {
   "cell_type": "code",
   "execution_count": 28,
   "id": "791c94d1-9de5-40ce-b80c-060f1747d3dd",
   "metadata": {
    "gradient": {},
    "tags": []
   },
   "outputs": [],
   "source": [
    "learn = Learner(dls, model.to('cuda'), loss_func=nn.CrossEntropyLoss(), metrics=[accuracy], )\n"
   ]
  },
  {
   "cell_type": "code",
   "execution_count": 29,
   "id": "68e76657-2438-4171-9fd0-7c9f95390903",
   "metadata": {
    "gradient": {},
    "tags": []
   },
   "outputs": [
    {
     "data": {
      "text/html": [],
      "text/plain": [
       "<IPython.core.display.HTML object>"
      ]
     },
     "metadata": {},
     "output_type": "display_data"
    },
    {
     "data": {
      "text/plain": [
       "SuggestedLRs(valley=tensor(2.0893e-05))"
      ]
     },
     "execution_count": 29,
     "metadata": {},
     "output_type": "execute_result"
    },
    {
     "data": {
      "image/png": "[encoded data removed]",
      "text/plain": [
       "<Figure size 432x288 with 1 Axes>"
      ]
     },
     "metadata": {
      "needs_background": "light"
     },
     "output_type": "display_data"
    }
   ],
   "source": [
    "learn.lr_find()"
   ]
  },
  {
   "cell_type": "code",
   "execution_count": null,
   "id": "868dd5e1-3616-4dfe-80a6-a894433ec0d8",
   "metadata": {
    "gradient": {},
    "tags": []
   },
   "outputs": [
    {
     "data": {
      "text/html": [
       "\n",
       "    <div>\n",
       "        <style>\n",
       "            /* Turns off some styling */\n",
       "            progress {\n",
       "                /* gets rid of default border in Firefox and Opera. */\n",
       "                border: none;\n",
       "                /* Needs to be in here for Safari polyfill so background images work as expected. */\n",
       "                background-size: auto;\n",
       "            }\n",
       "            .progress-bar-interrupted, .progress-bar-interrupted::-webkit-progress-bar {\n",
       "                background: #F44336;\n",
       "            }\n",
       "        </style>\n",
       "      <progress value='9' class='' max='20' style='width:300px; height:20px; vertical-align: middle;'></progress>\n",
       "      45.00% [9/20 3:31:13<4:18:09]\n",
       "    </div>\n",
       "    \n",
       "<table border=\"1\" class=\"dataframe\">\n",
       "  <thead>\n",
       "    <tr style=\"text-align: left;\">\n",
       "      <th>epoch</th>\n",
       "      <th>train_loss</th>\n",
       "      <th>valid_loss</th>\n",
       "      <th>accuracy</th>\n",
       "      <th>time</th>\n",
       "    </tr>\n",
       "  </thead>\n",
       "  <tbody>\n",
       "    <tr>\n",
       "      <td>0</td>\n",
       "      <td>0.751210</td>\n",
       "      <td>0.742151</td>\n",
       "      <td>0.660251</td>\n",
       "      <td>23:30</td>\n",
       "    </tr>\n",
       "    <tr>\n",
       "      <td>1</td>\n",
       "      <td>0.618867</td>\n",
       "      <td>0.623646</td>\n",
       "      <td>0.726200</td>\n",
       "      <td>23:29</td>\n",
       "    </tr>\n",
       "    <tr>\n",
       "      <td>2</td>\n",
       "      <td>0.575288</td>\n",
       "      <td>0.592440</td>\n",
       "      <td>0.744932</td>\n",
       "      <td>23:25</td>\n",
       "    </tr>\n",
       "    <tr>\n",
       "      <td>3</td>\n",
       "      <td>0.476123</td>\n",
       "      <td>0.673450</td>\n",
       "      <td>0.716962</td>\n",
       "      <td>23:28</td>\n",
       "    </tr>\n",
       "    <tr>\n",
       "      <td>4</td>\n",
       "      <td>0.393884</td>\n",
       "      <td>0.638825</td>\n",
       "      <td>0.745702</td>\n",
       "      <td>23:29</td>\n",
       "    </tr>\n",
       "    <tr>\n",
       "      <td>5</td>\n",
       "      <td>0.308868</td>\n",
       "      <td>0.707170</td>\n",
       "      <td>0.750064</td>\n",
       "      <td>23:29</td>\n",
       "    </tr>\n",
       "    <tr>\n",
       "      <td>6</td>\n",
       "      <td>0.187973</td>\n",
       "      <td>0.935471</td>\n",
       "      <td>0.740313</td>\n",
       "      <td>23:30</td>\n",
       "    </tr>\n",
       "    <tr>\n",
       "      <td>7</td>\n",
       "      <td>0.134823</td>\n",
       "      <td>0.985481</td>\n",
       "      <td>0.733641</td>\n",
       "      <td>23:25</td>\n",
       "    </tr>\n",
       "    <tr>\n",
       "      <td>8</td>\n",
       "      <td>0.092805</td>\n",
       "      <td>1.119056</td>\n",
       "      <td>0.744162</td>\n",
       "      <td>23:23</td>\n",
       "    </tr>\n",
       "  </tbody>\n",
       "</table><p>\n",
       "\n",
       "    <div>\n",
       "        <style>\n",
       "            /* Turns off some styling */\n",
       "            progress {\n",
       "                /* gets rid of default border in Firefox and Opera. */\n",
       "                border: none;\n",
       "                /* Needs to be in here for Safari polyfill so background images work as expected. */\n",
       "                background-size: auto;\n",
       "            }\n",
       "            .progress-bar-interrupted, .progress-bar-interrupted::-webkit-progress-bar {\n",
       "                background: #F44336;\n",
       "            }\n",
       "        </style>\n",
       "      <progress value='355' class='' max='731' style='width:300px; height:20px; vertical-align: middle;'></progress>\n",
       "      48.56% [355/731 10:11<10:47 0.0671]\n",
       "    </div>\n",
       "    "
      ],
      "text/plain": [
       "<IPython.core.display.HTML object>"
      ]
     },
     "metadata": {},
     "output_type": "display_data"
    }
   ],
   "source": [
    "learn.fit_one_cycle(20,2.0893e-05)"
   ]
  },
  {
   "cell_type": "code",
   "execution_count": null,
   "id": "0a5d3769-16d0-40f0-a8fd-543c305921c7",
   "metadata": {
    "gradient": {}
   },
   "outputs": [],
   "source": []
  },
  {
   "cell_type": "code",
   "execution_count": null,
   "id": "f896ce6a-2c9a-4ee5-9d76-cda7465c6e0e",
   "metadata": {
    "gradient": {}
   },
   "outputs": [],
   "source": []
  },
  {
   "cell_type": "code",
   "execution_count": null,
   "id": "98bc454a-958e-44f1-9396-47a6897a98bc",
   "metadata": {
    "gradient": {}
   },
   "outputs": [],
   "source": []
  }
 ],
 "metadata": {
  "kernelspec": {
   "display_name": "Python 3",
   "language": "python",
   "name": "python3"
  },
  "language_info": {
   "codemirror_mode": {
    "name": "ipython",
    "version": 3
   },
   "file_extension": ".py",
   "mimetype": "text/x-python",
   "name": "python",
   "nbconvert_exporter": "python",
   "pygments_lexer": "ipython3",
   "version": "3.8.5"
  }
 },
 "nbformat": 4,
 "nbformat_minor": 5
}
