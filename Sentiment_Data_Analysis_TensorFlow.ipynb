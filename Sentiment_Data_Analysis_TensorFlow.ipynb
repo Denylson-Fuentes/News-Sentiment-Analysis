{
 "cells": [
  {
   "cell_type": "code",
   "execution_count": 23,
   "id": "5c63ff9e",
   "metadata": {},
   "outputs": [],
   "source": [
    "import io\n",
    "import matplotlib.pyplot as plt\n",
    "import tensorflow as tf\n",
    "from tensorflow import keras\n",
    "from tensorflow.keras import layers\n",
    "from tensorflow.keras.preprocessing.text import Tokenizer\n",
    "from tensorflow.keras.preprocessing.sequence import pad_sequences\n",
    "import numpy as np\n",
    "import pandas as pd\n",
    "from sklearn.model_selection import train_test_split"
   ]
  },
  {
   "cell_type": "code",
   "execution_count": 51,
   "id": "69225a77",
   "metadata": {},
   "outputs": [],
   "source": [
    "# Run this to ensure TensorFlow 2.x is used\n",
    "try:\n",
    "  # %tensorflow_version only exists in Colab.\n",
    "  %tensorflow_version 2.x\n",
    "except Exception:\n",
    "  pass"
   ]
  },
  {
   "cell_type": "markdown",
   "id": "a26ed84e",
   "metadata": {},
   "source": [
    "Context\n",
    "\n",
    "Opportunities to analyze the general market based on sentiment analysis of news exist plentifully, but there are few opportunities to discover or predict the performance of a specific stock based on relevant headlines. This by-company prediction is more useful to users than general binary classifications of an entire market - but I found in my research that properly labeled data for this use case didn't exist publicly.\n",
    "\n",
    "Content\n",
    "\n",
    "Using web scraping methods written by colleague Yin Chang, we were able to obtain news headlines from Reddit r/WorldNews, as well as corresponding market data through Yahoo Finance. With these two vital pieces, I was able to then write this data.\n",
    "\n",
    "\n",
    "Each headline corresponds with a stock symbol (currently only tracking US markets - companies represented by the NASDAQ and DJIA) and a sentiment label. The sentiment labels are as follows:\n",
    "\n",
    "0 -> The stock went down by market close the day the article was published (negative)\n",
    "\n",
    "1 -> The stock went up by market close the day the article was published (positive)\n",
    "\n",
    "2 -> The stock stayed the same by market close the day the article was published (neutral)\n",
    "\n",
    "Note: We will be removing entries labeled 2, since there are fewer and we would like to make the output binary.\n",
    "\n",
    "Original Source: https://www.kaggle.com/sidarcidiacono/news-sentiment-analysis-for-stock-data-by-company"
   ]
  },
  {
   "cell_type": "code",
   "execution_count": 118,
   "id": "7c48d196",
   "metadata": {},
   "outputs": [],
   "source": [
    "news1 = pd.read_csv('./djia_news/djia_news copy.csv')\n",
    "news2 = pd.read_csv(\"./nasdaq/nasdaq.csv\")\n",
    "combined_news = news1.append(news2)\n",
    "combined_news = combined_news[combined_news.Label != 2]\n",
    "news_train, news_test = train_test_split(combined_news,test_size = .20, random_state = 1)"
   ]
  },
  {
   "cell_type": "markdown",
   "id": "7d9628fa",
   "metadata": {},
   "source": [
    "In order to predict the sentiment, we split the data between train/test.\n",
    "We will not allow our model to see test data."
   ]
  },
  {
   "cell_type": "code",
   "execution_count": 119,
   "id": "a44ae35e",
   "metadata": {},
   "outputs": [],
   "source": [
    "labels_train = news_train['Label'].tolist() # separating each column into a list\n",
    "ticker_train = news_train['Ticker'].tolist()\n",
    "headline_train = news_train['Headline'].tolist()\n",
    "labels_test = news_train['Label'].tolist() # testing data\n",
    "ticker_test = news_train['Ticker'].tolist()\n",
    "headline_test = news_train['Headline'].tolist()"
   ]
  },
  {
   "cell_type": "markdown",
   "id": "a5faee9d",
   "metadata": {},
   "source": [
    "Here we fit a tokenizer on the training headlines and then use that tokenizer to padded training and testing sequences."
   ]
  },
  {
   "cell_type": "code",
   "execution_count": 146,
   "id": "7e86fcfa",
   "metadata": {},
   "outputs": [],
   "source": [
    "vocab_size = 15000\n",
    "tokenizer = Tokenizer(num_words = vocab_size, oov_token = \"<OOV>\")\n",
    "tokenizer.fit_on_texts(headline_train)\n",
    "word_index = tokenizer.word_index\n",
    "\n",
    "train_sequence = tokenizer.texts_to_sequences(headline_train)\n",
    "train_padded = pad_sequences(train_sequence, padding = \"post\", truncating = 'post')\n",
    "\n",
    "test_sequence = tokenizer.texts_to_sequences(headline_test)\n",
    "test_padded = pad_sequences(test_sequence, padding = \"post\",truncating = 'post')"
   ]
  },
  {
   "cell_type": "code",
   "execution_count": 147,
   "id": "6eafad1e",
   "metadata": {},
   "outputs": [],
   "source": [
    "model = tf.keras.Sequential([\n",
    "    tf.keras.layers.Embedding(vocab_size, 16, input_length = 100),\n",
    "    tf.keras.layers.GlobalAveragePooling1D(),\n",
    "    tf.keras.layers.Dense(24,activation= 'relu'),\n",
    "    tf.keras.layers.Dense(1,activation = 'sigmoid')\n",
    "])\n",
    "model.compile(loss = 'binary_crossentropy',optimizer = 'adam',metrics = ['accuracy'])"
   ]
  },
  {
   "cell_type": "code",
   "execution_count": 148,
   "id": "fe710cfa",
   "metadata": {},
   "outputs": [
    {
     "name": "stdout",
     "output_type": "stream",
     "text": [
      "Model: \"sequential_9\"\n",
      "_________________________________________________________________\n",
      "Layer (type)                 Output Shape              Param #   \n",
      "=================================================================\n",
      "embedding_9 (Embedding)      (None, 100, 16)           240000    \n",
      "_________________________________________________________________\n",
      "global_average_pooling1d_9 ( (None, 16)                0         \n",
      "_________________________________________________________________\n",
      "dense_18 (Dense)             (None, 24)                408       \n",
      "_________________________________________________________________\n",
      "dense_19 (Dense)             (None, 1)                 25        \n",
      "=================================================================\n",
      "Total params: 240,433\n",
      "Trainable params: 240,433\n",
      "Non-trainable params: 0\n",
      "_________________________________________________________________\n"
     ]
    }
   ],
   "source": [
    "model.summary()\n",
    "train_padded = np.array(train_padded)\n",
    "labels_train = np.array(labels_train)\n",
    "test_padded = np.array(test_padded)\n",
    "labels_test = np.array(labels_test)"
   ]
  },
  {
   "cell_type": "code",
   "execution_count": 149,
   "id": "790eb99e",
   "metadata": {},
   "outputs": [
    {
     "name": "stdout",
     "output_type": "stream",
     "text": [
      "Epoch 1/30\n",
      "WARNING:tensorflow:Model was constructed with shape (None, 100) for input Tensor(\"embedding_9_input:0\", shape=(None, 100), dtype=float32), but it was called on an input with incompatible shape (None, 69).\n",
      "WARNING:tensorflow:Model was constructed with shape (None, 100) for input Tensor(\"embedding_9_input:0\", shape=(None, 100), dtype=float32), but it was called on an input with incompatible shape (None, 69).\n",
      "WARNING:tensorflow:Model was constructed with shape (None, 100) for input Tensor(\"embedding_9_input:0\", shape=(None, 100), dtype=float32), but it was called on an input with incompatible shape (None, 69).\n",
      "381/381 - 1s - loss: 0.6475 - accuracy: 0.6581 - val_loss: 0.6368 - val_accuracy: 0.6582\n",
      "Epoch 2/30\n",
      "381/381 - 1s - loss: 0.6316 - accuracy: 0.6582 - val_loss: 0.6166 - val_accuracy: 0.6582\n",
      "Epoch 3/30\n",
      "381/381 - 1s - loss: 0.5855 - accuracy: 0.6744 - val_loss: 0.5156 - val_accuracy: 0.7542\n",
      "Epoch 4/30\n",
      "381/381 - 1s - loss: 0.4768 - accuracy: 0.7709 - val_loss: 0.4038 - val_accuracy: 0.8130\n",
      "Epoch 5/30\n",
      "381/381 - 1s - loss: 0.3926 - accuracy: 0.8239 - val_loss: 0.3350 - val_accuracy: 0.8597\n",
      "Epoch 6/30\n",
      "381/381 - 1s - loss: 0.3435 - accuracy: 0.8460 - val_loss: 0.2926 - val_accuracy: 0.8819\n",
      "Epoch 7/30\n",
      "381/381 - 1s - loss: 0.3018 - accuracy: 0.8663 - val_loss: 0.2618 - val_accuracy: 0.8900\n",
      "Epoch 8/30\n",
      "381/381 - 1s - loss: 0.2715 - accuracy: 0.8839 - val_loss: 0.2425 - val_accuracy: 0.8967\n",
      "Epoch 9/30\n",
      "381/381 - 1s - loss: 0.2477 - accuracy: 0.8908 - val_loss: 0.2200 - val_accuracy: 0.9052\n",
      "Epoch 10/30\n",
      "381/381 - 1s - loss: 0.2282 - accuracy: 0.8996 - val_loss: 0.1964 - val_accuracy: 0.9186\n",
      "Epoch 11/30\n",
      "381/381 - 1s - loss: 0.2119 - accuracy: 0.9053 - val_loss: 0.1791 - val_accuracy: 0.9240\n",
      "Epoch 12/30\n",
      "381/381 - 1s - loss: 0.1988 - accuracy: 0.9105 - val_loss: 0.1747 - val_accuracy: 0.9242\n",
      "Epoch 13/30\n",
      "381/381 - 1s - loss: 0.1858 - accuracy: 0.9164 - val_loss: 0.1575 - val_accuracy: 0.9329\n",
      "Epoch 14/30\n",
      "381/381 - 1s - loss: 0.1787 - accuracy: 0.9167 - val_loss: 0.1472 - val_accuracy: 0.9368\n",
      "Epoch 15/30\n",
      "381/381 - 1s - loss: 0.1694 - accuracy: 0.9235 - val_loss: 0.1400 - val_accuracy: 0.9387\n",
      "Epoch 16/30\n",
      "381/381 - 1s - loss: 0.1592 - accuracy: 0.9261 - val_loss: 0.1328 - val_accuracy: 0.9417\n",
      "Epoch 17/30\n",
      "381/381 - 1s - loss: 0.1521 - accuracy: 0.9291 - val_loss: 0.1293 - val_accuracy: 0.9437\n",
      "Epoch 18/30\n",
      "381/381 - 1s - loss: 0.1476 - accuracy: 0.9293 - val_loss: 0.1206 - val_accuracy: 0.9469\n",
      "Epoch 19/30\n",
      "381/381 - 1s - loss: 0.1425 - accuracy: 0.9314 - val_loss: 0.1341 - val_accuracy: 0.9372\n",
      "Epoch 20/30\n",
      "381/381 - 1s - loss: 0.1385 - accuracy: 0.9337 - val_loss: 0.1205 - val_accuracy: 0.9434\n",
      "Epoch 21/30\n",
      "381/381 - 1s - loss: 0.1326 - accuracy: 0.9352 - val_loss: 0.1075 - val_accuracy: 0.9524\n",
      "Epoch 22/30\n",
      "381/381 - 1s - loss: 0.1315 - accuracy: 0.9374 - val_loss: 0.1044 - val_accuracy: 0.9527\n",
      "Epoch 23/30\n",
      "381/381 - 1s - loss: 0.1245 - accuracy: 0.9407 - val_loss: 0.1010 - val_accuracy: 0.9535\n",
      "Epoch 24/30\n",
      "381/381 - 1s - loss: 0.1233 - accuracy: 0.9415 - val_loss: 0.0988 - val_accuracy: 0.9549\n",
      "Epoch 25/30\n",
      "381/381 - 1s - loss: 0.1223 - accuracy: 0.9393 - val_loss: 0.0951 - val_accuracy: 0.9568\n",
      "Epoch 26/30\n",
      "381/381 - 1s - loss: 0.1180 - accuracy: 0.9405 - val_loss: 0.0928 - val_accuracy: 0.9568\n",
      "Epoch 27/30\n",
      "381/381 - 1s - loss: 0.1165 - accuracy: 0.9439 - val_loss: 0.0985 - val_accuracy: 0.9543\n",
      "Epoch 28/30\n",
      "381/381 - 1s - loss: 0.1149 - accuracy: 0.9444 - val_loss: 0.1000 - val_accuracy: 0.9532\n",
      "Epoch 29/30\n",
      "381/381 - 1s - loss: 0.1116 - accuracy: 0.9452 - val_loss: 0.0918 - val_accuracy: 0.9563\n",
      "Epoch 30/30\n",
      "381/381 - 1s - loss: 0.1106 - accuracy: 0.9456 - val_loss: 0.0908 - val_accuracy: 0.9571\n"
     ]
    }
   ],
   "source": [
    "num_epochs = 30\n",
    "history = model.fit(train_padded, labels_train, epochs=num_epochs, validation_data=(test_padded, labels_test), verbose=2)"
   ]
  },
  {
   "cell_type": "markdown",
   "id": "f8b40715",
   "metadata": {},
   "source": [
    "Based on the graphs below, we can determine that the accuracy stabilizes around 15-20 Epochs"
   ]
  },
  {
   "cell_type": "code",
   "execution_count": 150,
   "id": "c29c92f5",
   "metadata": {},
   "outputs": [
    {
     "data": {
      "image/png": "[encoded data removed]",
      "text/plain": [
       "<Figure size 432x288 with 1 Axes>"
      ]
     },
     "metadata": {
      "needs_background": "light"
     },
     "output_type": "display_data"
    },
    {
     "data": {
      "image/png": "[encoded data removed]",
      "text/plain": [
       "<Figure size 432x288 with 1 Axes>"
      ]
     },
     "metadata": {
      "needs_background": "light"
     },
     "output_type": "display_data"
    }
   ],
   "source": [
    "def plot_graphs(history, string):\n",
    "  plt.plot(history.history[string])\n",
    "  plt.plot(history.history['val_'+string])\n",
    "  plt.xlabel(\"Epochs\")\n",
    "  plt.ylabel(string)\n",
    "  plt.legend([string, 'val_'+string])\n",
    "  plt.show()\n",
    "  \n",
    "plot_graphs(history, \"accuracy\")\n",
    "plot_graphs(history, \"loss\")"
   ]
  },
  {
   "cell_type": "markdown",
   "id": "55776c90",
   "metadata": {},
   "source": [
    "We will now test this model by applying new data. Printed is the probability that your output = 1 (The stock went up by market close the day the article was published).\n",
    "\n",
    "Note that the further our prediction is from either 1 or 0, the more uncertainty there is. There could be a possibility of its label being 2 (The stock stayed the same by market close the day the article was published (neutral)), but this model is not made to predict that label.\n",
    "\n",
    "These headlines were taken from Yahoo! Finance.  "
   ]
  },
  {
   "cell_type": "code",
   "execution_count": 151,
   "id": "353f96e0",
   "metadata": {},
   "outputs": [],
   "source": [
    "sentence = [\"Intel Stock Is Sliding Because Its Problems Are Big Problems and the Solutions Aren’t Easy\", \"Ford Stock Gets Bump From Electric F-150 Unveiling Announcement\"]\n",
    "sequences = tokenizer.texts_to_sequences(sentence)\n",
    "padded = pad_sequences(sequences, maxlen=100, padding='post', truncating='post')\n",
    "prediction = model.predict(padded)\n",
    "result = []\n",
    "j=0\n",
    "for i in prediction:\n",
    "    if i > 0.5:\n",
    "        result.append('Positive Sentiment')\n",
    "    else:\n",
    "        result.append('Negative Sentiment')\n",
    "    j=+1"
   ]
  },
  {
   "cell_type": "code",
   "execution_count": 152,
   "id": "5012bf55",
   "metadata": {},
   "outputs": [
    {
     "name": "stdout",
     "output_type": "stream",
     "text": [
      "Intel Stock Is Sliding Because Its Problems Are Big Problems and the Solutions Aren’t Easy : Negative Sentiment\n",
      "Ford Stock Gets Bump From Electric F-150 Unveiling Announcement : Positive Sentiment\n"
     ]
    }
   ],
   "source": [
    "j = 0\n",
    "for i in sentence:\n",
    "    print(i,\":\",result[j])\n",
    "    j=+1"
   ]
  },
  {
   "cell_type": "code",
   "execution_count": 153,
   "id": "361586be",
   "metadata": {},
   "outputs": [
    {
     "data": {
      "text/plain": [
       "array([[2.8715647e-06],\n",
       "       [6.0994238e-01]], dtype=float32)"
      ]
     },
     "execution_count": 153,
     "metadata": {},
     "output_type": "execute_result"
    }
   ],
   "source": [
    "prediction"
   ]
  },
  {
   "cell_type": "code",
   "execution_count": null,
   "id": "e56a9c8e",
   "metadata": {},
   "outputs": [],
   "source": []
  }
 ],
 "metadata": {
  "kernelspec": {
   "display_name": "Python 3",
   "language": "python",
   "name": "python3"
  },
  "language_info": {
   "codemirror_mode": {
    "name": "ipython",
    "version": 3
   },
   "file_extension": ".py",
   "mimetype": "text/x-python",
   "name": "python",
   "nbconvert_exporter": "python",
   "pygments_lexer": "ipython3",
   "version": "3.8.8"
  }
 },
 "nbformat": 4,
 "nbformat_minor": 5
}
