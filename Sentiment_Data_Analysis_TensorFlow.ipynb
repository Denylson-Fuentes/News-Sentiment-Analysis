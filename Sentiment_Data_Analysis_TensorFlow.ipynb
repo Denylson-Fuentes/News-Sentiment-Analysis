{
 "cells": [
  {
   "cell_type": "code",
   "execution_count": 1,
   "id": "5c63ff9e",
   "metadata": {},
   "outputs": [],
   "source": [
    "import matplotlib.pyplot as plt\n",
    "import tensorflow as tf\n",
    "from tensorflow import keras\n",
    "from tensorflow.keras import layers\n",
    "from tensorflow.keras.preprocessing.text import Tokenizer\n",
    "from tensorflow.keras.preprocessing.sequence import pad_sequences\n",
    "import numpy as np\n",
    "import pandas as pd\n",
    "from sklearn.model_selection import train_test_split"
   ]
  },
  {
   "cell_type": "markdown",
   "id": "a26ed84e",
   "metadata": {},
   "source": [
    "Context\n",
    "\n",
    "Opportunities to analyze the general market based on sentiment analysis of news exist plentifully, but there are few opportunities to discover or predict the performance of a specific stock based on relevant headlines. This by-company prediction is more useful to users than general binary classifications of an entire market - but I found in my research that properly labeled data for this use case didn't exist publicly.\n",
    "\n",
    "Content\n",
    "\n",
    "Using web scraping methods written by colleague Yin Chang, we were able to obtain news headlines from Reddit r/WorldNews, as well as corresponding market data through Yahoo Finance. With these two vital pieces, I was able to then write this data.\n",
    "\n",
    "\n",
    "Each headline corresponds with a stock symbol (currently only tracking US markets - companies represented by the NASDAQ and DJIA) and a sentiment label. The sentiment labels are as follows:\n",
    "\n",
    "0 -> The stock went down by market close the day the article was published (negative)\n",
    "\n",
    "1 -> The stock went up by market close the day the article was published (positive)\n",
    "\n",
    "2 -> The stock stayed the same by market close the day the article was published (neutral)\n",
    "\n",
    "Note: We will be removing entries labeled 2, since there are fewer and we would like to make the output binary.\n",
    "\n",
    "Original Source: https://www.kaggle.com/sidarcidiacono/news-sentiment-analysis-for-stock-data-by-company"
   ]
  },
  {
   "cell_type": "code",
   "execution_count": 2,
   "id": "7c48d196",
   "metadata": {},
   "outputs": [],
   "source": [
    "news1 = pd.read_csv('./djia_news/djia_news copy.csv')\n",
    "news2 = pd.read_csv(\"./nasdaq/nasdaq.csv\")\n",
    "combined_news = news1.append(news2)\n",
    "combined_news = combined_news[combined_news.Label != 2]#removing contant label entries\n",
    "news_train, news_test = train_test_split(combined_news,test_size = .20, random_state = 1)#Feel free to adjust test_size, random_state allows you to replicate"
   ]
  },
  {
   "cell_type": "markdown",
   "id": "7d9628fa",
   "metadata": {},
   "source": [
    "In order to predict the sentiment, we split the data between train/test.\n",
    "We will not allow our model to see test data."
   ]
  },
  {
   "cell_type": "code",
   "execution_count": 3,
   "id": "a44ae35e",
   "metadata": {},
   "outputs": [],
   "source": [
    "labels_train = news_train['Label'].tolist() # separating each column into a list\n",
    "ticker_train = news_train['Ticker'].tolist()\n",
    "headline_train = news_train['Headline'].tolist()\n",
    "labels_test = news_train['Label'].tolist() # testing data\n",
    "ticker_test = news_train['Ticker'].tolist()\n",
    "headline_test = news_train['Headline'].tolist()"
   ]
  },
  {
   "cell_type": "markdown",
   "id": "a5faee9d",
   "metadata": {},
   "source": [
    "Here we fit a tokenizer on the training headlines and then use that tokenizer to padded training and testing sequences."
   ]
  },
  {
   "cell_type": "code",
   "execution_count": 4,
   "id": "7e86fcfa",
   "metadata": {},
   "outputs": [],
   "source": [
    "vocab_size = 15000 #adjust\n",
    "dim_size= 16 #adjust\n",
    "input_len = 100 #adjust\n",
    "tokenizer = Tokenizer(num_words = vocab_size, oov_token = \"<OOV>\")\n",
    "tokenizer.fit_on_texts(headline_train)\n",
    "word_index = tokenizer.word_index\n",
    "\n",
    "train_sequence = tokenizer.texts_to_sequences(headline_train)\n",
    "train_padded = pad_sequences(train_sequence, padding = \"post\", truncating = 'post')\n",
    "\n",
    "test_sequence = tokenizer.texts_to_sequences(headline_test)\n",
    "test_padded = pad_sequences(test_sequence, padding = \"post\",truncating = 'post')"
   ]
  },
  {
   "cell_type": "code",
   "execution_count": 5,
   "id": "6eafad1e",
   "metadata": {},
   "outputs": [],
   "source": [
    "#Feel free to add layers, change activation function and/or number of number of nodes\n",
    "#dropout layers can be added\n",
    "model = tf.keras.Sequential([ \n",
    "    tf.keras.layers.Embedding(vocab_size, dim_size , input_length = input_len ),\n",
    "    tf.keras.layers.GlobalAveragePooling1D(), #Pooling\n",
    "    tf.keras.layers.Dense(24,activation= 'relu'),\n",
    "    tf.keras.layers.Dense(1,activation = 'sigmoid')\n",
    "])\n",
    "model.compile(loss = 'binary_crossentropy',optimizer = 'adam',metrics = ['accuracy'])"
   ]
  },
  {
   "cell_type": "code",
   "execution_count": 6,
   "id": "fe710cfa",
   "metadata": {},
   "outputs": [
    {
     "name": "stdout",
     "output_type": "stream",
     "text": [
      "Model: \"sequential\"\n",
      "_________________________________________________________________\n",
      "Layer (type)                 Output Shape              Param #   \n",
      "=================================================================\n",
      "embedding (Embedding)        (None, 100, 16)           240000    \n",
      "_________________________________________________________________\n",
      "global_average_pooling1d (Gl (None, 16)                0         \n",
      "_________________________________________________________________\n",
      "dense (Dense)                (None, 24)                408       \n",
      "_________________________________________________________________\n",
      "dense_1 (Dense)              (None, 1)                 25        \n",
      "=================================================================\n",
      "Total params: 240,433\n",
      "Trainable params: 240,433\n",
      "Non-trainable params: 0\n",
      "_________________________________________________________________\n"
     ]
    }
   ],
   "source": [
    "model.summary()\n",
    "train_padded = np.array(train_padded)\n",
    "labels_train = np.array(labels_train)\n",
    "test_padded = np.array(test_padded)\n",
    "labels_test = np.array(labels_test)"
   ]
  },
  {
   "cell_type": "code",
   "execution_count": 7,
   "id": "790eb99e",
   "metadata": {
    "scrolled": true
   },
   "outputs": [
    {
     "name": "stdout",
     "output_type": "stream",
     "text": [
      "Epoch 1/30\n",
      "WARNING:tensorflow:Model was constructed with shape (None, 100) for input Tensor(\"embedding_input:0\", shape=(None, 100), dtype=float32), but it was called on an input with incompatible shape (None, 69).\n",
      "WARNING:tensorflow:Model was constructed with shape (None, 100) for input Tensor(\"embedding_input:0\", shape=(None, 100), dtype=float32), but it was called on an input with incompatible shape (None, 69).\n",
      "WARNING:tensorflow:Model was constructed with shape (None, 100) for input Tensor(\"embedding_input:0\", shape=(None, 100), dtype=float32), but it was called on an input with incompatible shape (None, 69).\n",
      "381/381 - 1s - loss: 0.6481 - accuracy: 0.6582 - val_loss: 0.6368 - val_accuracy: 0.6582\n",
      "Epoch 2/30\n",
      "381/381 - 1s - loss: 0.6222 - accuracy: 0.6583 - val_loss: 0.5900 - val_accuracy: 0.6621\n",
      "Epoch 3/30\n",
      "381/381 - 1s - loss: 0.5473 - accuracy: 0.7028 - val_loss: 0.4848 - val_accuracy: 0.8156\n",
      "Epoch 4/30\n",
      "381/381 - 1s - loss: 0.4470 - accuracy: 0.7943 - val_loss: 0.3888 - val_accuracy: 0.8474\n",
      "Epoch 5/30\n",
      "381/381 - 1s - loss: 0.3759 - accuracy: 0.8374 - val_loss: 0.3201 - val_accuracy: 0.8696\n",
      "Epoch 6/30\n",
      "381/381 - 1s - loss: 0.3257 - accuracy: 0.8584 - val_loss: 0.2795 - val_accuracy: 0.8835\n",
      "Epoch 7/30\n",
      "381/381 - 1s - loss: 0.2901 - accuracy: 0.8738 - val_loss: 0.2499 - val_accuracy: 0.9000\n",
      "Epoch 8/30\n",
      "381/381 - 1s - loss: 0.2611 - accuracy: 0.8855 - val_loss: 0.2225 - val_accuracy: 0.9116\n",
      "Epoch 9/30\n",
      "381/381 - 1s - loss: 0.2395 - accuracy: 0.8945 - val_loss: 0.2029 - val_accuracy: 0.9175\n",
      "Epoch 10/30\n",
      "381/381 - 1s - loss: 0.2207 - accuracy: 0.9040 - val_loss: 0.1889 - val_accuracy: 0.9219\n",
      "Epoch 11/30\n",
      "381/381 - 1s - loss: 0.2062 - accuracy: 0.9099 - val_loss: 0.1722 - val_accuracy: 0.9309\n",
      "Epoch 12/30\n",
      "381/381 - 1s - loss: 0.1949 - accuracy: 0.9141 - val_loss: 0.1610 - val_accuracy: 0.9343\n",
      "Epoch 13/30\n",
      "381/381 - 1s - loss: 0.1820 - accuracy: 0.9163 - val_loss: 0.1628 - val_accuracy: 0.9297\n",
      "Epoch 14/30\n",
      "381/381 - 1s - loss: 0.1742 - accuracy: 0.9219 - val_loss: 0.1458 - val_accuracy: 0.9388\n",
      "Epoch 15/30\n",
      "381/381 - 1s - loss: 0.1652 - accuracy: 0.9246 - val_loss: 0.1358 - val_accuracy: 0.9439\n",
      "Epoch 16/30\n",
      "381/381 - 1s - loss: 0.1592 - accuracy: 0.9289 - val_loss: 0.1374 - val_accuracy: 0.9409\n",
      "Epoch 17/30\n",
      "381/381 - 1s - loss: 0.1516 - accuracy: 0.9305 - val_loss: 0.1242 - val_accuracy: 0.9471\n",
      "Epoch 18/30\n",
      "381/381 - 1s - loss: 0.1466 - accuracy: 0.9315 - val_loss: 0.1228 - val_accuracy: 0.9445\n",
      "Epoch 19/30\n",
      "381/381 - 1s - loss: 0.1427 - accuracy: 0.9328 - val_loss: 0.1163 - val_accuracy: 0.9490\n",
      "Epoch 20/30\n",
      "381/381 - 1s - loss: 0.1370 - accuracy: 0.9370 - val_loss: 0.1139 - val_accuracy: 0.9487\n",
      "Epoch 21/30\n",
      "381/381 - 1s - loss: 0.1345 - accuracy: 0.9366 - val_loss: 0.1065 - val_accuracy: 0.9533\n",
      "Epoch 22/30\n",
      "381/381 - 1s - loss: 0.1299 - accuracy: 0.9387 - val_loss: 0.1057 - val_accuracy: 0.9532\n",
      "Epoch 23/30\n",
      "381/381 - 1s - loss: 0.1262 - accuracy: 0.9396 - val_loss: 0.0995 - val_accuracy: 0.9555\n",
      "Epoch 24/30\n",
      "381/381 - 1s - loss: 0.1233 - accuracy: 0.9412 - val_loss: 0.0967 - val_accuracy: 0.9562\n",
      "Epoch 25/30\n",
      "381/381 - 1s - loss: 0.1219 - accuracy: 0.9409 - val_loss: 0.0954 - val_accuracy: 0.9577\n",
      "Epoch 26/30\n",
      "381/381 - 1s - loss: 0.1177 - accuracy: 0.9430 - val_loss: 0.0947 - val_accuracy: 0.9571\n",
      "Epoch 27/30\n",
      "381/381 - 1s - loss: 0.1166 - accuracy: 0.9453 - val_loss: 0.1008 - val_accuracy: 0.9528\n",
      "Epoch 28/30\n",
      "381/381 - 1s - loss: 0.1154 - accuracy: 0.9425 - val_loss: 0.0898 - val_accuracy: 0.9586\n",
      "Epoch 29/30\n",
      "381/381 - 1s - loss: 0.1122 - accuracy: 0.9448 - val_loss: 0.1096 - val_accuracy: 0.9496\n",
      "Epoch 30/30\n",
      "381/381 - 1s - loss: 0.1130 - accuracy: 0.9455 - val_loss: 0.0867 - val_accuracy: 0.9600\n"
     ]
    }
   ],
   "source": [
    "num_epochs = 30 #adjust\n",
    "history = model.fit(train_padded, labels_train, epochs=num_epochs, validation_data=(test_padded, labels_test), verbose=2)"
   ]
  },
  {
   "cell_type": "markdown",
   "id": "f8b40715",
   "metadata": {},
   "source": [
    "Based on the graphs below, we can determine that the accuracy stabilizes around 15-20 Epochs"
   ]
  },
  {
   "cell_type": "code",
   "execution_count": 8,
   "id": "c29c92f5",
   "metadata": {},
   "outputs": [
    {
     "data": {
      "image/png": "[encoded data removed]",
      "text/plain": [
       "<Figure size 432x288 with 1 Axes>"
      ]
     },
     "metadata": {
      "needs_background": "light"
     },
     "output_type": "display_data"
    },
    {
     "data": {
      "image/png": "[encoded data removed]",
      "text/plain": [
       "<Figure size 432x288 with 1 Axes>"
      ]
     },
     "metadata": {
      "needs_background": "light"
     },
     "output_type": "display_data"
    }
   ],
   "source": [
    "def plot_graphs(history, string):\n",
    "  plt.plot(history.history[string])\n",
    "  plt.plot(history.history['val_'+string])\n",
    "  plt.xlabel(\"Epochs\")\n",
    "  plt.ylabel(string)\n",
    "  plt.legend([string, 'val_'+string])\n",
    "  plt.show()\n",
    "  \n",
    "plot_graphs(history, \"accuracy\")\n",
    "plot_graphs(history, \"loss\")"
   ]
  },
  {
   "cell_type": "markdown",
   "id": "55776c90",
   "metadata": {},
   "source": [
    "We will now test this model by applying new data. Printed is the probability that your output = 1 (The stock went up by market close the day the article was published).\n",
    "\n",
    "Note that the further our prediction is from either 1 or 0, the more uncertainty there is. There could be a possibility of its label being 2 (The stock stayed the same by market close the day the article was published (neutral)), but this model is not made to predict that label.\n",
    "\n",
    "These headlines were taken from Yahoo! Finance.  "
   ]
  },
  {
   "cell_type": "code",
   "execution_count": 28,
   "id": "353f96e0",
   "metadata": {},
   "outputs": [],
   "source": [
    "## This part of the code is for demontration purposes\n",
    "sentence = [\"Ford Stocks Rise After Awesome Profits Earned\",\"Intel Stock Is Sliding Because Its Problems Are Big Problems and the Solutions Aren’t Easy\"]\n",
    "sequences = tokenizer.texts_to_sequences(sentence)\n",
    "padded = pad_sequences(sequences, maxlen=100, padding='post', truncating='post')\n",
    "prediction = model.predict(padded)\n",
    "result = []\n",
    "j=0\n",
    "for i in prediction:\n",
    "    if i > 0.5:\n",
    "        result.append('Positive Sentiment')\n",
    "    else:\n",
    "        result.append('Negative Sentiment')\n",
    "    j=+1"
   ]
  },
  {
   "cell_type": "code",
   "execution_count": 29,
   "id": "5012bf55",
   "metadata": {},
   "outputs": [
    {
     "name": "stdout",
     "output_type": "stream",
     "text": [
      "Ford Stocks Rise After Awesome Profits Earned : Positive Sentiment\n",
      "Intel Stock Is Sliding Because Its Problems Are Big Problems and the Solutions Aren’t Easy : Negative Sentiment\n"
     ]
    }
   ],
   "source": [
    "j = 0\n",
    "for i in sentence:\n",
    "    print(i,\":\",result[j])\n",
    "    j=+1"
   ]
  },
  {
   "cell_type": "code",
   "execution_count": 30,
   "id": "361586be",
   "metadata": {},
   "outputs": [
    {
     "data": {
      "text/plain": [
       "array([[9.1322887e-01],\n",
       "       [4.8155079e-07]], dtype=float32)"
      ]
     },
     "execution_count": 30,
     "metadata": {},
     "output_type": "execute_result"
    }
   ],
   "source": [
    "prediction"
   ]
  },
  {
   "cell_type": "code",
   "execution_count": null,
   "id": "e56a9c8e",
   "metadata": {},
   "outputs": [],
   "source": []
  }
 ],
 "metadata": {
  "kernelspec": {
   "display_name": "Python 3",
   "language": "python",
   "name": "python3"
  },
  "language_info": {
   "codemirror_mode": {
    "name": "ipython",
    "version": 3
   },
   "file_extension": ".py",
   "mimetype": "text/x-python",
   "name": "python",
   "nbconvert_exporter": "python",
   "pygments_lexer": "ipython3",
   "version": "3.8.8"
  }
 },
 "nbformat": 4,
 "nbformat_minor": 5
}
