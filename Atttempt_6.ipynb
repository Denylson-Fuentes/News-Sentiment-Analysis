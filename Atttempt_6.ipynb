{
 "cells": [
  {
   "cell_type": "code",
   "execution_count": 1,
   "id": "156908bc-40db-4145-9205-e41d59ec92f3",
   "metadata": {
    "tags": []
   },
   "outputs": [],
   "source": [
    "# !pip install nltk\n",
    "# !pip install pytorch==1.9.0\n",
    "# !pip install torchtext==0.10\n",
    "# !pip install transformers==4.7\n",
    "# !pip install fastai==2.4"
   ]
  },
  {
   "cell_type": "markdown",
   "id": "daa7d769-49a1-4e03-af68-d158823116fd",
   "metadata": {},
   "source": [
    "# Installing Packages and Dependencies"
   ]
  },
  {
   "cell_type": "code",
   "execution_count": 2,
   "id": "dfccca7e-9632-4bfc-991e-6b37414e0aca",
   "metadata": {
    "tags": []
   },
   "outputs": [
    {
     "name": "stderr",
     "output_type": "stream",
     "text": [
      "[nltk_data] Downloading package punkt to\n",
      "[nltk_data]     C:\\Users\\Denylson\\AppData\\Roaming\\nltk_data...\n",
      "[nltk_data]   Package punkt is already up-to-date!\n",
      "[nltk_data] Downloading package stopwords to\n",
      "[nltk_data]     C:\\Users\\Denylson\\AppData\\Roaming\\nltk_data...\n",
      "[nltk_data]   Package stopwords is already up-to-date!\n",
      "[nltk_data] Downloading package wordnet to\n",
      "[nltk_data]     C:\\Users\\Denylson\\AppData\\Roaming\\nltk_data...\n",
      "[nltk_data]   Package wordnet is already up-to-date!\n"
     ]
    }
   ],
   "source": [
    "import nltk\n",
    "from nltk import word_tokenize\n",
    "from nltk import sent_tokenize\n",
    "from nltk import PorterStemmer\n",
    "from nltk import WordNetLemmatizer\n",
    "from nltk.corpus import stopwords\n",
    "from collections import Counter\n",
    "\n",
    "nltk.download('punkt')\n",
    "nltk.download('stopwords')\n",
    "nltk.download('wordnet')\n",
    "\n",
    "STOPWORDS = stopwords.words('english')\n",
    "lemmentizer = WordNetLemmatizer()\n",
    "stemmer = PorterStemmer()"
   ]
  },
  {
   "cell_type": "code",
   "execution_count": 3,
   "id": "1b811bea-b0f9-43d8-a99f-31640f709bb3",
   "metadata": {},
   "outputs": [],
   "source": [
    "import torch\n",
    "from torch import nn\n",
    "from torch import optim"
   ]
  },
  {
   "cell_type": "code",
   "execution_count": 4,
   "id": "c62dfbed-1a53-4d57-8249-793611ed0eec",
   "metadata": {},
   "outputs": [],
   "source": [
    "import pandas as pd\n",
    "import numpy as np\n",
    "import random"
   ]
  },
  {
   "cell_type": "code",
   "execution_count": 5,
   "id": "2e044489-b540-4f6c-a1cf-7c820052e988",
   "metadata": {
    "tags": []
   },
   "outputs": [],
   "source": [
    "import matplotlib.pyplot as plt"
   ]
  },
  {
   "cell_type": "code",
   "execution_count": 6,
   "id": "c6f703d6-95f7-4712-87b6-d70ee96e9d95",
   "metadata": {},
   "outputs": [],
   "source": [
    "import torchtext\n",
    "from torchtext.data import get_tokenizer"
   ]
  },
  {
   "cell_type": "code",
   "execution_count": 7,
   "id": "8229699a-d1a2-4248-b904-f51ca85648a8",
   "metadata": {},
   "outputs": [],
   "source": [
    "from fastai.text.all import *"
   ]
  },
  {
   "cell_type": "markdown",
   "id": "0a2b5494-87ac-46ac-b32c-fb685d9224e3",
   "metadata": {},
   "source": [
    "# Getting Data"
   ]
  },
  {
   "cell_type": "code",
   "execution_count": 8,
   "id": "0f6e45ca-0fb4-4cfa-88db-c24956deff19",
   "metadata": {},
   "outputs": [],
   "source": [
    "path = './data/balanced_clean_data.csv'"
   ]
  },
  {
   "cell_type": "code",
   "execution_count": 9,
   "id": "6e257c41-381c-4887-8070-4ad66b6b7473",
   "metadata": {},
   "outputs": [],
   "source": [
    "df = pd.read_csv(path)"
   ]
  },
  {
   "cell_type": "code",
   "execution_count": 10,
   "id": "d0f500ef-5fc5-4abe-a3b5-d7fdd5513b1d",
   "metadata": {
    "tags": []
   },
   "outputs": [
    {
     "data": {
      "text/plain": [
       " 1    29770\n",
       " 0    29770\n",
       "-1    29770\n",
       "Name: Score, dtype: int64"
      ]
     },
     "execution_count": 10,
     "metadata": {},
     "output_type": "execute_result"
    }
   ],
   "source": [
    "df['Score'].value_counts()"
   ]
  },
  {
   "cell_type": "code",
   "execution_count": 11,
   "id": "2ba11343-269d-44e3-86f7-b92c1ef9b852",
   "metadata": {
    "tags": []
   },
   "outputs": [
    {
     "data": {
      "text/html": [
       "<div>\n",
       "<style scoped>\n",
       "    .dataframe tbody tr th:only-of-type {\n",
       "        vertical-align: middle;\n",
       "    }\n",
       "\n",
       "    .dataframe tbody tr th {\n",
       "        vertical-align: top;\n",
       "    }\n",
       "\n",
       "    .dataframe thead th {\n",
       "        text-align: right;\n",
       "    }\n",
       "</style>\n",
       "<table border=\"1\" class=\"dataframe\">\n",
       "  <thead>\n",
       "    <tr style=\"text-align: right;\">\n",
       "      <th></th>\n",
       "      <th>Score</th>\n",
       "      <th>Text</th>\n",
       "    </tr>\n",
       "  </thead>\n",
       "  <tbody>\n",
       "    <tr>\n",
       "      <th>0</th>\n",
       "      <td>1</td>\n",
       "      <td>I always loved Shake and Bake for pork when I was a kid, but for some reason, I hadn't had it in many, many years. I'm not sure how today's formulation of it compares to it in the 1960's, but it's every bit as good as I remembered it. The instructions called for 1/2 inch chops that were to be cooked 15 minutes, which didn't seem long enough to me, but I was pleasantly surprised to find that they did get done all the way through and were still juicy and wonderful. I think most people over-cook pork trying to be careful and end up ruining it. The coating was crunchy and perfectly seasoned. T...</td>\n",
       "    </tr>\n",
       "    <tr>\n",
       "      <th>1</th>\n",
       "      <td>2</td>\n",
       "      <td>The flavor to me seems like just chili powder. It's just a matter of preference as to what you like. I've been mixing salsa in it to add some veggie flavors and textures, and for me it's an improvement...</td>\n",
       "    </tr>\n",
       "    <tr>\n",
       "      <th>2</th>\n",
       "      <td>0</td>\n",
       "      <td>Truthfully wasn't crazy about the taste of these but reason for the low rating is more to post a heads up warning. I noticed a trend in drinking this with a headache response. From an old neck injury I could get headaches from reinjuring or aggravating it. This tea triggered that same response which was very surprising. It made me think that many people could be triggering similar inflammation without ever tracing it back to the tea.  So just heads up if you are susceptible to this type of pain.</td>\n",
       "    </tr>\n",
       "    <tr>\n",
       "      <th>3</th>\n",
       "      <td>0</td>\n",
       "      <td>I purchased this as a moisturizer for my hair.  Very faint rose smell, almost non-exsistent.  On the bottle the ingredients listed are 50% distilled water and 50% rose petals; that must be a mistake because all I smell is water.</td>\n",
       "    </tr>\n",
       "    <tr>\n",
       "      <th>4</th>\n",
       "      <td>0</td>\n",
       "      <td>Pretty soon its going to be cheaper to have your coffee at Starbuck than buying Senseo coffee pods&lt;a href=\"http://www.amazon.com/gp/product/B000UBH9YO\"&gt;Senseo Medium Roast Coffee, 18-Count Pods (Pack of 6)&lt;/a&gt;</td>\n",
       "    </tr>\n",
       "  </tbody>\n",
       "</table>\n",
       "</div>"
      ],
      "text/plain": [
       "   Score  \\\n",
       "0      1   \n",
       "1      2   \n",
       "2      0   \n",
       "3      0   \n",
       "4      0   \n",
       "\n",
       "                                                                                                                                                                                                                                                                                                                                                                                                                                                                                                                                                                                                                      Text  \n",
       "0  I always loved Shake and Bake for pork when I was a kid, but for some reason, I hadn't had it in many, many years. I'm not sure how today's formulation of it compares to it in the 1960's, but it's every bit as good as I remembered it. The instructions called for 1/2 inch chops that were to be cooked 15 minutes, which didn't seem long enough to me, but I was pleasantly surprised to find that they did get done all the way through and were still juicy and wonderful. I think most people over-cook pork trying to be careful and end up ruining it. The coating was crunchy and perfectly seasoned. T...  \n",
       "1                                                                                                                                                                                                                                                                                                                                                                                                             The flavor to me seems like just chili powder. It's just a matter of preference as to what you like. I've been mixing salsa in it to add some veggie flavors and textures, and for me it's an improvement...  \n",
       "2                                                                                                     Truthfully wasn't crazy about the taste of these but reason for the low rating is more to post a heads up warning. I noticed a trend in drinking this with a headache response. From an old neck injury I could get headaches from reinjuring or aggravating it. This tea triggered that same response which was very surprising. It made me think that many people could be triggering similar inflammation without ever tracing it back to the tea.  So just heads up if you are susceptible to this type of pain.  \n",
       "3                                                                                                                                                                                                                                                                                                                                                                                     I purchased this as a moisturizer for my hair.  Very faint rose smell, almost non-exsistent.  On the bottle the ingredients listed are 50% distilled water and 50% rose petals; that must be a mistake because all I smell is water.  \n",
       "4                                                                                                                                                                                                                                                                                                                                                                                                        Pretty soon its going to be cheaper to have your coffee at Starbuck than buying Senseo coffee pods<a href=\"http://www.amazon.com/gp/product/B000UBH9YO\">Senseo Medium Roast Coffee, 18-Count Pods (Pack of 6)</a>  "
      ]
     },
     "execution_count": 11,
     "metadata": {},
     "output_type": "execute_result"
    }
   ],
   "source": [
    "df['Score'] = df['Score'].replace([-1, 0, 1], [0, 2, 1])\n",
    "df.head()"
   ]
  },
  {
   "cell_type": "code",
   "execution_count": 12,
   "id": "588afe7c-e3ad-4074-8e5d-a921d70af732",
   "metadata": {},
   "outputs": [],
   "source": [
    "# df = df[df['Score'] != 2]"
   ]
  },
  {
   "cell_type": "markdown",
   "id": "57341246-e8f9-48b1-91a5-7941a1369a0d",
   "metadata": {},
   "source": [
    "# Torchtext Glove and Tokenizer"
   ]
  },
  {
   "cell_type": "code",
   "execution_count": 13,
   "id": "ba951ea6-caba-445d-9c4f-762b7ccc28d8",
   "metadata": {},
   "outputs": [
    {
     "data": {
      "text/plain": [
       "torch.Size([400000, 100])"
      ]
     },
     "execution_count": 13,
     "metadata": {},
     "output_type": "execute_result"
    }
   ],
   "source": [
    "EMB_SIZE = 100\n",
    "glove = torchtext.vocab.GloVe(name = '6B', dim = EMB_SIZE)\n",
    "glove.vectors.shape"
   ]
  },
  {
   "cell_type": "code",
   "execution_count": 14,
   "id": "89248801-d299-4ab6-9875-ef529c98ee5c",
   "metadata": {
    "tags": []
   },
   "outputs": [],
   "source": [
    "train_data = df[:int(len(df) * 0.75)]\n",
    "test_data = df[int(len(df) * 0.75) : len(df)]\n"
   ]
  },
  {
   "cell_type": "code",
   "execution_count": 15,
   "id": "c04e4275-88e7-4c11-83e6-fce84e53b710",
   "metadata": {},
   "outputs": [],
   "source": [
    "tokenizer = get_tokenizer('basic_english')"
   ]
  },
  {
   "cell_type": "code",
   "execution_count": 16,
   "id": "49f70a73-cf35-42ff-9322-a7e2bf9aacf8",
   "metadata": {
    "tags": []
   },
   "outputs": [],
   "source": [
    "tokens = list(tokenizer(train_data['Text'][0]))\n",
    "# tokens"
   ]
  },
  {
   "cell_type": "code",
   "execution_count": 17,
   "id": "56f7ca2d-78c1-4b40-bcb2-f47967c150bb",
   "metadata": {
    "tags": []
   },
   "outputs": [],
   "source": [
    "# punctuation = \".,!?''\"\n",
    "# punctuations_removed = []\n",
    "\n",
    "# for token in tokens:\n",
    "#     if token not in punctuation:\n",
    "#         punctuations_removed.append(token)\n",
    "\n",
    "# punctuations_removed"
   ]
  },
  {
   "cell_type": "code",
   "execution_count": 18,
   "id": "2b1b875a-182b-4f5a-9cb2-c4caa672a824",
   "metadata": {
    "tags": []
   },
   "outputs": [],
   "source": [
    "# stops_removed = []\n",
    "# for token in punctuations_removed:\n",
    "#     if token not in STOPWORDS:\n",
    "#         stops_removed.append(token)\n",
    "\n",
    "# stops_removed"
   ]
  },
  {
   "cell_type": "code",
   "execution_count": 19,
   "id": "696b3587-8660-4160-9de5-50a457df8992",
   "metadata": {
    "tags": []
   },
   "outputs": [],
   "source": [
    "# lemmantized_list = []\n",
    "# for token in stops_removed:\n",
    "#     lemmantized = lemmentizer.lemmatize(token)\n",
    "#     lemmantized_list.append(lemmantized)\n",
    "\n",
    "# lemmantized_list"
   ]
  },
  {
   "cell_type": "code",
   "execution_count": 20,
   "id": "ef184782-5643-4d8a-92c1-0cca9bd83b06",
   "metadata": {
    "tags": []
   },
   "outputs": [],
   "source": [
    "punctuation = \".,!?-()=+_|\\/<>;:[]{}`~''\"\n",
    "token_counter = Counter()\n",
    "\n",
    "for sample_text in train_data['Text']:\n",
    "    tokens = tokenizer(sample_text)\n",
    "    punctuations_removed = [token for token in tokens if token not in punctuation]\n",
    "    stopwords_removed = [token for token in punctuations_removed if token not in STOPWORDS]\n",
    "    lemmantized_list = [lemmentizer.lemmatize(token) for token in stopwords_removed]\n",
    "    token_counter.update(lemmantized_list)\n",
    "    \n",
    "# token_counter.most_common(n = 25)"
   ]
  },
  {
   "cell_type": "markdown",
   "id": "6f0631f7-d07b-420b-b2ec-212ee3a9111e",
   "metadata": {},
   "source": [
    "# Creating Vocabulary amd Numericalizing Tokens"
   ]
  },
  {
   "cell_type": "code",
   "execution_count": 21,
   "id": "33f0dec3-07d0-42ff-87ad-5f8f806191fe",
   "metadata": {
    "tags": []
   },
   "outputs": [
    {
     "data": {
      "text/plain": [
       "(3690,\n",
       " ['<unk>',\n",
       "  '<pad>',\n",
       "  'like',\n",
       "  'taste',\n",
       "  'product',\n",
       "  'good',\n",
       "  'flavor',\n",
       "  'one',\n",
       "  'would',\n",
       "  'coffee',\n",
       "  'tea',\n",
       "  'get',\n",
       "  'food',\n",
       "  'great',\n",
       "  'love',\n",
       "  'much',\n",
       "  'really',\n",
       "  'make',\n",
       "  'amazon',\n",
       "  'time',\n",
       "  'box',\n",
       "  'bag',\n",
       "  'buy',\n",
       "  'dog',\n",
       "  'use'])"
      ]
     },
     "execution_count": 21,
     "metadata": {},
     "output_type": "execute_result"
    }
   ],
   "source": [
    "sorted_counter = dict(token_counter.most_common())\n",
    "my_vocab = torchtext.vocab.vocab(sorted_counter, min_freq = 70)\n",
    "\n",
    "unk_token = '<unk>'\n",
    "my_vocab.insert_token(unk_token, 0)\n",
    "my_vocab.set_default_index(0)\n",
    "\n",
    "pad_token = '<pad>'\n",
    "my_vocab.insert_token(pad_token, 1)\n",
    "\n",
    "len(my_vocab.get_itos()), my_vocab.get_itos()[:25]"
   ]
  },
  {
   "cell_type": "code",
   "execution_count": 22,
   "id": "e40407cd-0058-4a24-8cf5-6321237ac957",
   "metadata": {},
   "outputs": [
    {
     "data": {
      "text/plain": [
       "torch.Size([3690, 100])"
      ]
     },
     "execution_count": 22,
     "metadata": {},
     "output_type": "execute_result"
    }
   ],
   "source": [
    "my_vocab.vectors = glove.get_vecs_by_tokens(my_vocab.get_itos())\n",
    "my_vocab.vectors.shape"
   ]
  },
  {
   "cell_type": "code",
   "execution_count": 23,
   "id": "cd8ce0d3-88e4-4ee3-9cb1-8b3a1d9234bb",
   "metadata": {},
   "outputs": [
    {
     "data": {
      "text/plain": [
       "(3613, 3690)"
      ]
     },
     "execution_count": 23,
     "metadata": {},
     "output_type": "execute_result"
    }
   ],
   "source": [
    "tot_transferred = 0\n",
    "\n",
    "for v in my_vocab.vectors:\n",
    "    if not v.equal(torch.zeros(100)):\n",
    "        tot_transferred += 1\n",
    "\n",
    "tot_transferred, len(my_vocab)"
   ]
  },
  {
   "cell_type": "code",
   "execution_count": 24,
   "id": "080bd173-e769-4038-b00f-3632e682b7a8",
   "metadata": {
    "tags": []
   },
   "outputs": [
    {
     "data": {
      "text/plain": [
       "('taste',\n",
       " tensor([-0.2466,  0.2876,  0.5639,  0.1210, -0.5443,  0.5535,  0.4960, -0.2352,\n",
       "         -0.2111,  0.2786, -0.6362, -0.6102,  0.0670,  0.1267, -0.0125,  0.3316,\n",
       "         -0.1242, -0.0655, -0.2958,  0.9826, -0.4516,  0.0421, -0.0535, -1.0911,\n",
       "          0.0459,  1.0733,  0.0746, -0.4105,  0.3262, -0.6935, -0.1683,  0.8514,\n",
       "         -0.6443, -0.3090, -0.0808,  0.5789, -0.0212,  0.6006, -0.0849, -0.7017,\n",
       "          0.4353, -1.7349, -0.4485, -1.0450,  0.1289,  0.3302,  0.2004, -0.1133,\n",
       "          0.2275, -1.1130,  0.3920, -0.0847, -0.5158,  0.8865, -0.3438, -1.2946,\n",
       "          0.0250,  0.1104,  0.7369, -0.6131,  0.0471,  1.4001, -0.2480, -0.3326,\n",
       "          0.8087, -0.8989,  0.3684, -1.0946, -0.4225, -0.6527, -0.2025,  0.7006,\n",
       "          0.3021,  0.3794, -0.1251,  0.4189, -0.9431, -0.8895, -0.1244,  0.1794,\n",
       "         -0.2261, -0.3976, -0.4175,  0.8627, -0.7797, -0.3807, -0.3657,  0.2564,\n",
       "         -0.2054, -0.1444, -0.1614,  0.1357, -0.5889, -0.3084, -0.6956, -0.0863,\n",
       "         -0.4651, -0.8246,  0.3220,  0.8843]))"
      ]
     },
     "execution_count": 24,
     "metadata": {},
     "output_type": "execute_result"
    }
   ],
   "source": [
    "my_vocab.get_itos()[3], my_vocab.vectors[3]"
   ]
  },
  {
   "cell_type": "code",
   "execution_count": 25,
   "id": "20005f0b-bdc6-4ec5-982b-db8accaa7193",
   "metadata": {
    "tags": []
   },
   "outputs": [
    {
     "data": {
      "text/plain": [
       "('biting',\n",
       " tensor([-0.2000, -0.5675,  0.7654, -0.7841, -0.1245,  0.6039, -0.5124, -0.1028,\n",
       "         -0.4716, -0.4522, -0.3639, -0.0593,  0.2142,  0.4420,  0.7892,  0.7925,\n",
       "         -0.8343, -0.8804,  0.3692, -0.2116,  0.7005,  0.1680,  0.0736,  0.0765,\n",
       "          1.0400,  0.7752, -0.7941,  0.3706,  0.0018, -0.2773, -0.5395, -0.1976,\n",
       "         -0.0813, -0.1775, -0.1967, -0.2798, -0.5150, -0.4117, -0.1065,  0.5288,\n",
       "         -0.5701, -0.1953, -0.0637, -0.5799, -0.8697,  0.3774,  0.4637, -1.1163,\n",
       "         -0.1312, -0.4549, -0.0766, -0.1130,  0.2668,  0.9551, -0.2303, -0.0748,\n",
       "          0.5524,  0.0451,  0.5216, -0.5604,  1.0632,  1.3531, -0.6398,  0.2591,\n",
       "          0.3140, -0.2464,  0.2831, -0.1497, -0.0455, -0.4530, -0.6667,  0.0215,\n",
       "          0.3178,  0.5490, -0.8126, -0.3322, -0.5706, -0.4784, -0.2631,  0.6333,\n",
       "          0.1951, -0.4590, -0.3727,  0.1857, -1.0325, -0.7079, -0.2748,  1.0662,\n",
       "         -0.2458,  0.0631,  0.5523,  0.1019,  0.1954,  0.2858,  0.7243, -0.1441,\n",
       "         -0.3941,  0.4963,  0.7616,  0.3180]))"
      ]
     },
     "execution_count": 25,
     "metadata": {},
     "output_type": "execute_result"
    }
   ],
   "source": [
    "my_vocab.get_itos()[2991], my_vocab.vectors[2991]"
   ]
  },
  {
   "cell_type": "code",
   "execution_count": 26,
   "id": "64e7756f-71d4-42f7-9bc7-1738ff71f177",
   "metadata": {},
   "outputs": [],
   "source": [
    "for i in range(my_vocab.vectors.shape[0]):\n",
    "    if my_vocab.vectors[i].equal(torch.zeros(100)):\n",
    "        my_vocab.vectors[i] = torch.randn(100)"
   ]
  },
  {
   "cell_type": "code",
   "execution_count": 27,
   "id": "81906048-0021-43b6-ba50-2657d9e5cd00",
   "metadata": {
    "tags": []
   },
   "outputs": [],
   "source": [
    "tokens = list(tokenizer(train_data['Text'][0]))\n",
    "# tokens"
   ]
  },
  {
   "cell_type": "code",
   "execution_count": 28,
   "id": "c707218d-47c5-472d-baa9-f0c4fb9f93cd",
   "metadata": {
    "tags": []
   },
   "outputs": [],
   "source": [
    "numericalized_tokens = [my_vocab[token] for token in tokens]\n",
    "numericalized_tokens = torch.tensor(numericalized_tokens)\n",
    "# numericalized_tokens"
   ]
  },
  {
   "cell_type": "code",
   "execution_count": 29,
   "id": "823ce8d3-0a74-471c-a1b8-aed579abaec8",
   "metadata": {
    "tags": []
   },
   "outputs": [
    {
     "data": {
      "text/plain": [
       "'<unk> always loved shake <unk> bake <unk> pork <unk> <unk> <unk> <unk> kid <unk> <unk> <unk> <unk> reason <unk> <unk> <unk> <unk> <unk> <unk> <unk> <unk> many <unk> many <unk> <unk> <unk> <unk> <unk> <unk> sure <unk> today <unk> <unk> <unk> <unk> <unk> <unk> <unk> <unk> <unk> <unk> <unk> <unk> <unk> <unk> <unk> <unk> <unk> <unk> every bit <unk> good <unk> <unk> remembered <unk> <unk> <unk> <unk> called <unk> 1/2 inch <unk> <unk> <unk> <unk> <unk> cooked 15 <unk> <unk> <unk> <unk> <unk> <unk> seem long enough <unk> <unk> <unk> <unk> <unk> <unk> pleasantly surprised <unk> find <unk> <unk> <unk> get done <unk> <unk> way <unk> <unk> <unk> still juicy <unk> wonderful <unk> <unk> think <unk> people <unk> pork trying <unk> <unk> careful <unk> end <unk> <unk> <unk> <unk> <unk> coating <unk> crunchy <unk> perfectly seasoned <unk> <unk> <unk> <unk> <unk> regular <unk> <unk> dinner table <unk> <unk> <unk> <unk> <unk> <unk> <unk> <unk> <unk> <unk> <unk> package said <unk> <unk> enough <unk> coat 6 <unk> <unk> <unk> <unk> <unk> <unk> really <unk> enough <unk> 5 <unk> <unk> <unk> <unk>'"
      ]
     },
     "execution_count": 29,
     "metadata": {},
     "output_type": "execute_result"
    }
   ],
   "source": [
    "' '.join([my_vocab.get_itos()[num] for num in numericalized_tokens])"
   ]
  },
  {
   "cell_type": "code",
   "execution_count": 30,
   "id": "26cc5e35-39c4-4a34-97bc-2018dae1459f",
   "metadata": {},
   "outputs": [
    {
     "data": {
      "text/plain": [
       "torch.Size([180])"
      ]
     },
     "execution_count": 30,
     "metadata": {},
     "output_type": "execute_result"
    }
   ],
   "source": [
    "numericalized_tokens.shape"
   ]
  },
  {
   "cell_type": "code",
   "execution_count": 31,
   "id": "c6aa5a15-8e0d-493c-9c6a-7714d71fdf88",
   "metadata": {},
   "outputs": [],
   "source": [
    "max_tokens = 160"
   ]
  },
  {
   "cell_type": "code",
   "execution_count": 32,
   "id": "c984fab9-6f9c-4cc7-9708-f586c0080b40",
   "metadata": {
    "tags": []
   },
   "outputs": [
    {
     "data": {
      "text/plain": [
       "tensor([   0,  165,  276,  797,    0, 1219,    0, 1267,    0,    0,    0,    0,\n",
       "         245,    0,    0,    0,    0,  313,    0,    0,    0,    0,    0,    0,\n",
       "           0,    0,   90,    0,   90,    0,    0,    0,    0,    0,    0,   85,\n",
       "           0,  600,    0,    0,    0,    0,    0,    0,    0,    0,    0,    0,\n",
       "           0,    0,    0,    0,    0,    0,    0,    0,  142,   54,    0,    5,\n",
       "           0,    0, 2344,    0,    0,    0,    0,  500,    0,  646, 1154,    0,\n",
       "           0,    0,    0,    0,  757,  820,    0,    0,    0,    0,    0,    0,\n",
       "         280,  171,  104,    0,    0,    0,    0,    0,    0, 1713,  532,    0,\n",
       "          38,    0,    0,    0,   11,  563,    0,    0,   47,    0,    0,    0,\n",
       "          55, 2364,    0,  286,    0,    0,   40,    0,  138,    0, 1267,  192,\n",
       "           0,    0,  940,    0,  342,    0,    0,    0,    0,    0, 1160,    0,\n",
       "         501,    0, 1022, 2442,    0,    0,    0,    0,    0,  152,    0,    0,\n",
       "         749, 1241,    0,    0,    0,    0,    0,    0,    0,    0,    0,    0,\n",
       "           0,   76,  168,    0])"
      ]
     },
     "execution_count": 32,
     "metadata": {},
     "output_type": "execute_result"
    }
   ],
   "source": [
    "numericalized_tokens = [my_vocab[token] for token in tokens]\n",
    "if len(numericalized_tokens) < max_tokens:\n",
    "    numericalized_tokens += [1] * (max_tokens - len(numericalized_tokens))\n",
    "else:\n",
    "    numericalized_tokens = numericalized_tokens[:max_tokens]\n",
    "    \n",
    "numericalized_tokens = torch.tensor(numericalized_tokens)\n",
    "numericalized_tokens"
   ]
  },
  {
   "cell_type": "markdown",
   "id": "ce80a032-2a6c-474f-9eec-bb281be79ed4",
   "metadata": {},
   "source": [
    "# Creating Dataset "
   ]
  },
  {
   "cell_type": "code",
   "execution_count": 33,
   "id": "5b395ce1-06fe-4bb7-8fd8-3d3151871b58",
   "metadata": {},
   "outputs": [],
   "source": [
    "class Simple_Dataset(torch.utils.data.Dataset):\n",
    "    def __init__(self, df, vocab, max_tokens):\n",
    "        self.df = df\n",
    "        self.vocab = vocab\n",
    "        self.max_length = max_tokens\n",
    "        self.tokenizer = get_tokenizer(\"basic_english\")\n",
    "        \n",
    "    def __len__(self):\n",
    "        return len(self.df)\n",
    "    \n",
    "    def decode(self, numericalized_tokens):\n",
    "        return ' '.join([self.vocab.get_itos()[num] for num in numericalized_tokens])\n",
    "    \n",
    "    def __getitem__(self, index):\n",
    "        label, text = self.df.iloc[index]\n",
    "        label = torch.tensor(label)\n",
    "        \n",
    "        tokens = tokenizer(text)\n",
    "        numericalized_tokens = [my_vocab[token] for token in tokens]\n",
    "        \n",
    "        if len(numericalized_tokens) < self.max_length:\n",
    "            numericalized_tokens += [1] * (max_tokens - len(numericalized_tokens))\n",
    "        else:\n",
    "            numericalized_tokens = numericalized_tokens[:self.max_length]\n",
    "        \n",
    "        numericalized_tokens = torch.tensor(numericalized_tokens)\n",
    "        \n",
    "        return numericalized_tokens, label"
   ]
  },
  {
   "cell_type": "code",
   "execution_count": 34,
   "id": "b9b9cdbe-49f2-4b4a-85fd-ff1d8f0e7e61",
   "metadata": {
    "tags": []
   },
   "outputs": [
    {
     "data": {
      "text/plain": [
       "(66982, 22328)"
      ]
     },
     "execution_count": 34,
     "metadata": {},
     "output_type": "execute_result"
    }
   ],
   "source": [
    "train_dataset = Simple_Dataset(train_data, vocab = my_vocab, max_tokens = max_tokens)\n",
    "test_dataset = Simple_Dataset(test_data, vocab = my_vocab, max_tokens =  max_tokens)\n",
    "\n",
    "len(train_dataset), len(test_dataset)"
   ]
  },
  {
   "cell_type": "code",
   "execution_count": 35,
   "id": "a8199110-de81-4e5c-8480-8f81f0b582f9",
   "metadata": {
    "tags": []
   },
   "outputs": [
    {
     "data": {
      "text/plain": [
       "(tensor([   0,  165,  276,  797,    0, 1219,    0, 1267,    0,    0,    0,    0,\n",
       "          245,    0,    0,    0,    0,  313,    0,    0,    0,    0,    0,    0,\n",
       "            0,    0,   90,    0,   90,    0,    0,    0,    0,    0,    0,   85,\n",
       "            0,  600,    0,    0,    0,    0,    0,    0,    0,    0,    0,    0,\n",
       "            0,    0,    0,    0,    0,    0,    0,    0,  142,   54,    0,    5,\n",
       "            0,    0, 2344,    0,    0,    0,    0,  500,    0,  646, 1154,    0,\n",
       "            0,    0,    0,    0,  757,  820,    0,    0,    0,    0,    0,    0,\n",
       "          280,  171,  104,    0,    0,    0,    0,    0,    0, 1713,  532,    0,\n",
       "           38,    0,    0,    0,   11,  563,    0,    0,   47,    0,    0,    0,\n",
       "           55, 2364,    0,  286,    0,    0,   40,    0,  138,    0, 1267,  192,\n",
       "            0,    0,  940,    0,  342,    0,    0,    0,    0,    0, 1160,    0,\n",
       "          501,    0, 1022, 2442,    0,    0,    0,    0,    0,  152,    0,    0,\n",
       "          749, 1241,    0,    0,    0,    0,    0,    0,    0,    0,    0,    0,\n",
       "            0,   76,  168,    0]),\n",
       " tensor(1))"
      ]
     },
     "execution_count": 35,
     "metadata": {},
     "output_type": "execute_result"
    }
   ],
   "source": [
    "tokens, label = train_dataset[0]\n",
    "tokens, label"
   ]
  },
  {
   "cell_type": "code",
   "execution_count": 36,
   "id": "cde508d6-558d-41b0-8448-99bec519d6b7",
   "metadata": {
    "tags": []
   },
   "outputs": [
    {
     "data": {
      "text/plain": [
       "'<unk> always loved shake <unk> bake <unk> pork <unk> <unk> <unk> <unk> kid <unk> <unk> <unk> <unk> reason <unk> <unk> <unk> <unk> <unk> <unk> <unk> <unk> many <unk> many <unk> <unk> <unk> <unk> <unk> <unk> sure <unk> today <unk> <unk> <unk> <unk> <unk> <unk> <unk> <unk> <unk> <unk> <unk> <unk> <unk> <unk> <unk> <unk> <unk> <unk> every bit <unk> good <unk> <unk> remembered <unk> <unk> <unk> <unk> called <unk> 1/2 inch <unk> <unk> <unk> <unk> <unk> cooked 15 <unk> <unk> <unk> <unk> <unk> <unk> seem long enough <unk> <unk> <unk> <unk> <unk> <unk> pleasantly surprised <unk> find <unk> <unk> <unk> get done <unk> <unk> way <unk> <unk> <unk> still juicy <unk> wonderful <unk> <unk> think <unk> people <unk> pork trying <unk> <unk> careful <unk> end <unk> <unk> <unk> <unk> <unk> coating <unk> crunchy <unk> perfectly seasoned <unk> <unk> <unk> <unk> <unk> regular <unk> <unk> dinner table <unk> <unk> <unk> <unk> <unk> <unk> <unk> <unk> <unk> <unk> <unk> package said <unk>'"
      ]
     },
     "execution_count": 36,
     "metadata": {},
     "output_type": "execute_result"
    }
   ],
   "source": [
    "train_dataset.decode(tokens)"
   ]
  },
  {
   "cell_type": "markdown",
   "id": "582a354f-2343-42e9-81c9-53053ea31f83",
   "metadata": {},
   "source": [
    "# DataLoaders"
   ]
  },
  {
   "cell_type": "code",
   "execution_count": 37,
   "id": "3b5665df-a52d-40d3-9d50-01de32069951",
   "metadata": {
    "tags": []
   },
   "outputs": [
    {
     "data": {
      "text/plain": [
       "<fastai.data.core.DataLoaders at 0x2190cddf7c0>"
      ]
     },
     "execution_count": 37,
     "metadata": {},
     "output_type": "execute_result"
    }
   ],
   "source": [
    "train_dl = DataLoader(train_dataset, bs = 32, shuffle = True)\n",
    "test_dl = DataLoader(test_dataset, bs = 32)\n",
    "\n",
    "dls = DataLoaders(train_dl, test_dl)\n",
    "dls"
   ]
  },
  {
   "cell_type": "markdown",
   "id": "c8401e38-589c-4df0-ba00-bc6669504801",
   "metadata": {},
   "source": [
    "# Creating NLP Model"
   ]
  },
  {
   "cell_type": "code",
   "execution_count": 38,
   "id": "6fe42038-610c-41d0-88bc-817cadfa195c",
   "metadata": {},
   "outputs": [],
   "source": [
    "class Model(nn.Module):\n",
    "    \n",
    "    def __init__(self, vocab, emb_size, num_classes):\n",
    "        super().__init__()\n",
    "        \n",
    "        self.vocab_size = len(vocab)\n",
    "        self.emb_size = emb_size\n",
    "        \n",
    "        self.emb = nn.Embedding(self.vocab_size, emb_size, _weight = vocab.vectors)\n",
    "        \n",
    "        self.lstm = nn.LSTM(input_size = emb_size, hidden_size = 80, batch_first = True, num_layers = 2)\n",
    "        \n",
    "        self.head = nn.Sequential(nn.Linear(160, 512), nn.ReLU(), nn.Linear(512, 1024), nn.ReLU(), nn.Linear(1024, 2048), nn.ReLU(), nn.Linear(2048, 1024), nn.ReLU(), nn.Linear(1024, 2048), nn.ReLU(), nn.Linear(2048, 256), nn.ReLU(), nn.Linear(256, 128), nn.ReLU(), nn.Linear(128, 64), nn.ReLU(), nn.Linear(64, num_classes))\n",
    "        \n",
    "    def forward(self, batch_data):\n",
    "        \n",
    "        token_embs = self.emb(batch_data)\n",
    "        \n",
    "        outputs, (h_n, c_n) = self.lstm(token_embs)\n",
    "        \n",
    "        last_hidden_state = h_n\n",
    "        \n",
    "        last_hidden_state = last_hidden_state.permute(1, 0, 2)\n",
    "        \n",
    "        last_hidden_state = last_hidden_state.flatten(start_dim = 1)\n",
    "        \n",
    "        logits = self.head(last_hidden_state)\n",
    "        \n",
    "        return logits\n",
    "        "
   ]
  },
  {
   "cell_type": "code",
   "execution_count": 39,
   "id": "7ec2ccec-a7dd-484c-94f2-2ffc1d3deba6",
   "metadata": {
    "tags": []
   },
   "outputs": [
    {
     "data": {
      "text/plain": [
       "Model(\n",
       "  (emb): Embedding(3690, 100)\n",
       "  (lstm): LSTM(100, 80, num_layers=2, batch_first=True)\n",
       "  (head): Sequential(\n",
       "    (0): Linear(in_features=160, out_features=512, bias=True)\n",
       "    (1): ReLU()\n",
       "    (2): Linear(in_features=512, out_features=1024, bias=True)\n",
       "    (3): ReLU()\n",
       "    (4): Linear(in_features=1024, out_features=2048, bias=True)\n",
       "    (5): ReLU()\n",
       "    (6): Linear(in_features=2048, out_features=1024, bias=True)\n",
       "    (7): ReLU()\n",
       "    (8): Linear(in_features=1024, out_features=2048, bias=True)\n",
       "    (9): ReLU()\n",
       "    (10): Linear(in_features=2048, out_features=256, bias=True)\n",
       "    (11): ReLU()\n",
       "    (12): Linear(in_features=256, out_features=128, bias=True)\n",
       "    (13): ReLU()\n",
       "    (14): Linear(in_features=128, out_features=64, bias=True)\n",
       "    (15): ReLU()\n",
       "    (16): Linear(in_features=64, out_features=3, bias=True)\n",
       "  )\n",
       ")"
      ]
     },
     "execution_count": 39,
     "metadata": {},
     "output_type": "execute_result"
    }
   ],
   "source": [
    "nlp_model = Model(my_vocab, emb_size = EMB_SIZE, num_classes = 3)\n",
    "nlp_model"
   ]
  },
  {
   "cell_type": "code",
   "execution_count": 40,
   "id": "24abea46-ab22-430f-b2b5-da6313500fd9",
   "metadata": {
    "tags": []
   },
   "outputs": [
    {
     "data": {
      "text/plain": [
       "Parameter containing:\n",
       "tensor([[-0.7516, -1.2704, -0.0542,  ...,  0.4719,  0.3075, -0.6638],\n",
       "        [ 0.1691,  0.1264,  0.4709,  ..., -0.6817,  0.3511, -0.9500],\n",
       "        [-0.2687,  0.8171,  0.6990,  ..., -0.4011,  0.7466,  0.3112],\n",
       "        ...,\n",
       "        [ 0.1898,  0.3071, -0.3837,  ..., -0.4578, -0.7518,  1.4329],\n",
       "        [-0.7829,  1.0687,  0.7117,  ...,  1.0002,  0.0066,  0.6207],\n",
       "        [ 0.1705,  0.0845, -0.2820,  ...,  0.4856, -0.3799,  0.1644]],\n",
       "       requires_grad=True)"
      ]
     },
     "execution_count": 40,
     "metadata": {},
     "output_type": "execute_result"
    }
   ],
   "source": [
    "embedding_matrix = list(nlp_model.emb.parameters())[0]\n",
    "embedding_matrix"
   ]
  },
  {
   "cell_type": "code",
   "execution_count": 41,
   "id": "56e23402-0147-4e95-b586-7e50893e4640",
   "metadata": {},
   "outputs": [
    {
     "data": {
      "text/plain": [
       "True"
      ]
     },
     "execution_count": 41,
     "metadata": {},
     "output_type": "execute_result"
    }
   ],
   "source": [
    "my_vocab.vectors[3].equal(embedding_matrix[3])"
   ]
  },
  {
   "cell_type": "code",
   "execution_count": 42,
   "id": "e3bf1ed2-668f-4bc6-9788-4c96d33a12b1",
   "metadata": {},
   "outputs": [
    {
     "data": {
      "text/plain": [
       "7949291"
      ]
     },
     "execution_count": 42,
     "metadata": {},
     "output_type": "execute_result"
    }
   ],
   "source": [
    "total_params = 0\n",
    "for p in nlp_model.parameters():\n",
    "    total_params += p.numel()\n",
    "    \n",
    "total_params"
   ]
  },
  {
   "cell_type": "code",
   "execution_count": 43,
   "id": "9a95a520-1aa3-47ce-8b80-1abcc74e1b03",
   "metadata": {},
   "outputs": [
    {
     "name": "stdout",
     "output_type": "stream",
     "text": [
      "torch.Size([32, 160]) torch.Size([32])\n"
     ]
    }
   ],
   "source": [
    "batched_data, batched_labels = train_dl.one_batch()\n",
    "print(batched_data.shape, batched_labels.shape)"
   ]
  },
  {
   "cell_type": "code",
   "execution_count": 44,
   "id": "ffc624ae-2b78-496d-99c4-89f5849c5fea",
   "metadata": {},
   "outputs": [
    {
     "data": {
      "text/plain": [
       "torch.Size([32, 3])"
      ]
     },
     "execution_count": 44,
     "metadata": {},
     "output_type": "execute_result"
    }
   ],
   "source": [
    "with torch.no_grad():\n",
    "    logits = nlp_model(batched_data)\n",
    "\n",
    "logits.shape"
   ]
  },
  {
   "cell_type": "code",
   "execution_count": 45,
   "id": "37ed1a9f-291c-4418-b51a-50bb3b31889f",
   "metadata": {},
   "outputs": [
    {
     "data": {
      "text/plain": [
       "tensor(1.1034)"
      ]
     },
     "execution_count": 45,
     "metadata": {},
     "output_type": "execute_result"
    }
   ],
   "source": [
    "loss_func = nn.CrossEntropyLoss()\n",
    "\n",
    "loss = loss_func(logits, batched_labels)\n",
    "loss"
   ]
  },
  {
   "cell_type": "markdown",
   "id": "4c8a00af-1987-4820-a8ac-56d3b05c5efd",
   "metadata": {},
   "source": [
    "# Training and Fine Tuning"
   ]
  },
  {
   "cell_type": "code",
   "execution_count": 46,
   "id": "0920e351-8c09-455f-ab97-280719fdd527",
   "metadata": {},
   "outputs": [
    {
     "data": {
      "text/plain": [
       "<fastai.learner.Learner at 0x2190d1f8760>"
      ]
     },
     "execution_count": 46,
     "metadata": {},
     "output_type": "execute_result"
    }
   ],
   "source": [
    "learn = Learner(dls, nlp_model, loss_func = nn.CrossEntropyLoss(), metrics = [accuracy])\n",
    "learn"
   ]
  },
  {
   "cell_type": "code",
   "execution_count": 47,
   "id": "40fea24a-0e97-4571-b88a-7fc5760206f6",
   "metadata": {
    "tags": []
   },
   "outputs": [
    {
     "data": {
      "text/html": [],
      "text/plain": [
       "<IPython.core.display.HTML object>"
      ]
     },
     "metadata": {},
     "output_type": "display_data"
    },
    {
     "name": "stderr",
     "output_type": "stream",
     "text": [
      "C:\\Users\\Denylson\\anaconda3\\envs\\Pythorch\\lib\\site-packages\\fastai\\callback\\schedule.py:270: UserWarning: color is redundantly defined by the 'color' keyword argument and the fmt string \"ro\" (-> color='r'). The keyword argument will take precedence.\n",
      "  ax.plot(val, idx, 'ro', label=nm, c=color)\n"
     ]
    },
    {
     "data": {
      "text/plain": [
       "SuggestedLRs(valley=tensor(0.0001))"
      ]
     },
     "execution_count": 47,
     "metadata": {},
     "output_type": "execute_result"
    },
    {
     "data": {
      "image/png": "[encoded data removed]",
      "text/plain": [
       "<Figure size 432x288 with 1 Axes>"
      ]
     },
     "metadata": {
      "needs_background": "light"
     },
     "output_type": "display_data"
    }
   ],
   "source": [
    "learn.lr_find()"
   ]
  },
  {
   "cell_type": "code",
   "execution_count": null,
   "id": "606ca931-2159-4316-b919-b54e6c30d2ab",
   "metadata": {
    "tags": []
   },
   "outputs": [
    {
     "data": {
      "text/html": [
       "\n",
       "    <div>\n",
       "        <style>\n",
       "            /* Turns off some styling */\n",
       "            progress {\n",
       "                /* gets rid of default border in Firefox and Opera. */\n",
       "                border: none;\n",
       "                /* Needs to be in here for Safari polyfill so background images work as expected. */\n",
       "                background-size: auto;\n",
       "            }\n",
       "            .progress-bar-interrupted, .progress-bar-interrupted::-webkit-progress-bar {\n",
       "                background: #F44336;\n",
       "            }\n",
       "        </style>\n",
       "      <progress value='2' class='' max='10' style='width:300px; height:20px; vertical-align: middle;'></progress>\n",
       "      20.00% [2/10 23:12<1:32:50]\n",
       "    </div>\n",
       "    \n",
       "<table border=\"1\" class=\"dataframe\">\n",
       "  <thead>\n",
       "    <tr style=\"text-align: left;\">\n",
       "      <th>epoch</th>\n",
       "      <th>train_loss</th>\n",
       "      <th>valid_loss</th>\n",
       "      <th>accuracy</th>\n",
       "      <th>time</th>\n",
       "    </tr>\n",
       "  </thead>\n",
       "  <tbody>\n",
       "    <tr>\n",
       "      <td>0</td>\n",
       "      <td>1.096067</td>\n",
       "      <td>1.094936</td>\n",
       "      <td>0.356190</td>\n",
       "      <td>10:28</td>\n",
       "    </tr>\n",
       "    <tr>\n",
       "      <td>1</td>\n",
       "      <td>1.094725</td>\n",
       "      <td>1.094590</td>\n",
       "      <td>0.355921</td>\n",
       "      <td>12:43</td>\n",
       "    </tr>\n",
       "  </tbody>\n",
       "</table><p>\n",
       "\n",
       "    <div>\n",
       "        <style>\n",
       "            /* Turns off some styling */\n",
       "            progress {\n",
       "                /* gets rid of default border in Firefox and Opera. */\n",
       "                border: none;\n",
       "                /* Needs to be in here for Safari polyfill so background images work as expected. */\n",
       "                background-size: auto;\n",
       "            }\n",
       "            .progress-bar-interrupted, .progress-bar-interrupted::-webkit-progress-bar {\n",
       "                background: #F44336;\n",
       "            }\n",
       "        </style>\n",
       "      <progress value='1026' class='' max='2094' style='width:300px; height:20px; vertical-align: middle;'></progress>\n",
       "      49.00% [1026/2094 07:31<07:50 1.0949]\n",
       "    </div>\n",
       "    "
      ],
      "text/plain": [
       "<IPython.core.display.HTML object>"
      ]
     },
     "metadata": {},
     "output_type": "display_data"
    }
   ],
   "source": [
    "## BINARY\n",
    "\n",
    "# learn.fit_one_cycle(5, lr_max=7e-4) 86% accuracy  32, 2 layers 64 -> 256 -> 64\n",
    "# learn.fit_one_cycle(15, lr_max=0.0003) 87.7% accuracy 64  2 layers 128 -> 512 -> 64\n",
    "# learn.fit_one_cycle(15, lr_max=0.0014) 87.9% accuracy 64  2 layers, bidirectional  256 -> 512 -> 64\n",
    "\n",
    "## MULTI-CLASS\n",
    "\n",
    "# learn.fit_one_cycle(15, lr_max= 0.0001) 67.3 accuracy 32 4 layers, bidirectional 256 -> 350 -> 420 -> 672 -> 1024 -> 2048 -> 256 -> 64\n",
    "learn.fit_one_cycle(10, lr_max= 0.0001)"
   ]
  },
  {
   "cell_type": "code",
   "execution_count": null,
   "id": "8679331e-b220-44c6-8282-e89551a46b40",
   "metadata": {},
   "outputs": [],
   "source": []
  },
  {
   "cell_type": "code",
   "execution_count": null,
   "id": "18f36b63-ee22-4440-baf6-3d988ca20250",
   "metadata": {},
   "outputs": [],
   "source": []
  }
 ],
 "metadata": {
  "kernelspec": {
   "display_name": "Python 3",
   "language": "python",
   "name": "python3"
  },
  "language_info": {
   "codemirror_mode": {
    "name": "ipython",
    "version": 3
   },
   "file_extension": ".py",
   "mimetype": "text/x-python",
   "name": "python",
   "nbconvert_exporter": "python",
   "pygments_lexer": "ipython3",
   "version": "3.8.10"
  }
 },
 "nbformat": 4,
 "nbformat_minor": 5
}
